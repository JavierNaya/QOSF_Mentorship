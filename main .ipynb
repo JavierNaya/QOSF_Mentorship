{
 "cells": [
  {
   "cell_type": "code",
   "execution_count": 71,
   "metadata": {},
   "outputs": [
    {
     "name": "stderr",
     "output_type": "stream",
     "text": [
      "ibmqfactory.load_account:WARNING:2020-12-17 22:00:24,799: Credentials are already in use. The existing account in the session will be replaced.\n"
     ]
    }
   ],
   "source": [
    "# Importing required packages \n",
    "from qiskit import IBMQ, QuantumCircuit, Aer, execute\n",
    "from qiskit.quantum_info import Operator, Statevector, state_fidelity\n",
    "from qiskit.visualization import plot_state_qsphere, plot_histogram, plot_state_city\n",
    "from qiskit.aqua.components.optimizers import COBYLA\n",
    "from qiskit.providers.aer.noise import NoiseModel\n",
    "from qiskit.aqua.algorithms import VQE\n",
    "import numpy as np\n",
    "import random, math\n",
    "from scipy import optimize as opt\n",
    "import matplotlib.pyplot as plt\n",
    "from IPython.display import Image\n",
    "import mitiq\n",
    "\n",
    "provider = IBMQ.load_account()\n"
   ]
  },
  {
   "cell_type": "markdown",
   "metadata": {},
   "source": [
    "# Introduction \n",
    "\n",
    "Quantum computers provide a natural platform to perform simulations for the evolution of systems\n",
    "Proposals of simulations of quantum field theories and experimental implementation (Zoller etc.) \n",
    "Klco et al. reducing the physical space and studying the discretized Schwinger model, proposal to study the noise restrictions they faced with the help of the mitiq package"
   ]
  },
  {
   "cell_type": "markdown",
   "metadata": {},
   "source": [
    "## VQE of the ground state energy \n",
    "\n",
    "Through the use of physical symmetries within the system it is possible to restrict the matrix to the form \n",
    "\n",
    "\\begin{equation}\n",
    "H_{k=0,+}^{\\lambda^2 = 3} =\n",
    "\\begin{pmatrix}\n",
    "-2\\mu & 2x & 0 & 0\\\\\n",
    "2x & 1 & \\sqrt{2}x & 0\\\\\n",
    "0 & \\sqrt{2}x & 2 + 2\\mu & \\sqrt{2}x \\\\\n",
    "0 & 0 & \\sqrt{2}x & 3 \n",
    "\\end{pmatrix}\n",
    "\\end{equation}\n",
    "\n",
    "This 4x4 matrix can then be expressed in term of the polywords\n",
    "\n",
    "\\begin{equation}\n",
    "\\cal{O}_{i,j} = \\frac{1}{4}\\sigma_{i} \\otimes \\sigma_{j} \n",
    "\\end{equation}\n",
    "with $i,j = 0,1,2,3$ representing the Pauli matrices. Such that the hamiltonian is written as\n",
    "\\begin{equation}\n",
    "H = \\sum_{i,j} c_{i,j}\\cal{O}_{i,j}\n",
    "\\end{equation} \n",
    "with each coefficient calculated as inner product of the matrices with the Hamiltonian (equivalent to finding the coefficients of real vector through the application of dot products) \n",
    "\n",
    "\\begin{equation}\n",
    "c_{i,j} = Tr( \\cal{O}^{\\dagger}H) = Tr( \\cal{O}H) \n",
    "\\end{equation}\n",
    "\n",
    "which the following function will implement "
   ]
  },
  {
   "cell_type": "code",
   "execution_count": 4,
   "metadata": {},
   "outputs": [],
   "source": [
    "#Function to prepare the hamiltonian alognside the traceless one \n",
    "def Hamiltonian(mu,x):\n",
    "    H = np.array([[-2*mu, 2*x, 0, 0],\\\n",
    "                  [2*x, 1, np.sqrt(2)*x, 0],\\\n",
    "                  [0, np.sqrt(2)*x, 2+2*mu, np.sqrt(2)*x],\\\n",
    "                  [0, 0, np.sqrt(2)*x, 3]])\n",
    "    HT = H - (3/2)*np.eye(4)\n",
    "    \n",
    "    return H,HT\n",
    "\n",
    "\n",
    "\n",
    "#Values used in the paper minimization\n",
    "[H,HT] = Hamiltonian(0.1,0.6)\n",
    "\n",
    "\n",
    "#Find the eigenvalues of the matrix to see if they \n",
    "#are the same \n",
    "eigenHT,_ = np.linalg.eig(HT);\n"
   ]
  },
  {
   "cell_type": "code",
   "execution_count": 50,
   "metadata": {},
   "outputs": [
    {
     "data": {
      "text/plain": [
       "array([-2.51163997, -0.39739922,  0.76804891,  2.14099028])"
      ]
     },
     "execution_count": 50,
     "metadata": {},
     "output_type": "execute_result"
    }
   ],
   "source": [
    "eigenHT"
   ]
  },
  {
   "cell_type": "code",
   "execution_count": 5,
   "metadata": {},
   "outputs": [],
   "source": [
    "def decomposition_H(H):\n",
    "\n",
    "    \n",
    "    #Definition of the pauli matrices \n",
    "    sigma_0 = np.eye(2)\n",
    "    sigma_X = np.array([[0,1],[1,0]])\n",
    "    sigma_Y = np.array([[0,-1j],[1j,0]])\n",
    "    sigma_Z = np.array([[1,0],[0,-1]])\n",
    "    Pauli = [sigma_0,sigma_X,sigma_Y,sigma_Z]\n",
    "    Pauli_name = ['I','X','Y','Z']\n",
    "    \n",
    "    #Creaiton of the pauli_words\n",
    "    ii = 0 \n",
    "    Poly = []\n",
    "    Poly_name = []\n",
    "    for i in Pauli:\n",
    "        jj = 0\n",
    "        for j in Pauli:\n",
    "            Poly.append(np.kron(i,j))\n",
    "            Poly_name.append(Pauli_name[ii] + Pauli_name[jj])\n",
    "            jj += 1\n",
    "        ii += 1\n",
    "\n",
    "    \n",
    "    #Doing the partial trace for the coefficinets \n",
    "    c = {}\n",
    "    for i in range(len(Poly)):\n",
    "        c[Poly_name[i]] = np.real(np.trace(np.matmul(Poly[i],H))/4)\n",
    "        \n",
    "    return c\n",
    "    \n",
    "coef = decomposition_H(HT)\n",
    "#coef"
   ]
  },
  {
   "cell_type": "markdown",
   "metadata": {},
   "source": [
    "Supposing we already have the decomposition then we can then express the expectation value of the energy of the hamiltonian as \n",
    "\n",
    "\\begin{equation} \n",
    "    \\left< H \\right>_{\\theta} = \\sum_{i}c_{i} \\big< \\psi(\\vec{\\theta}) \\big| \\cal{O}_{i} \\big| \\psi(\\vec{\\theta})\\big>\n",
    "\\end{equation}\n",
    "\n",
    "where the initial state $\\big| \\psi(\\vec{\\theta})\\big> $ is determined to an specific anzats created by the circuit in E10  \n",
    "\n",
    "To properly implement in qiskit we use the RX,RY and RZ defined as \n",
    " \n",
    "\\begin{align*} \n",
    "RX(\\theta) &= e^{-i\\theta\\frac{\\sigma_{X}}{2}} \\\\ \n",
    "RY(\\theta) &= e^{-i\\theta\\frac{\\sigma_{Y}}{2}} \\\\\n",
    "RZ(\\theta) &= e^{-i\\theta\\frac{\\sigma_{Z}}{2}} \\\\ \n",
    "\\end{align*}\n",
    "\n",
    "The created circuit is such that \n",
    "\n",
    "\\begin{equation}\n",
    "    \\big| \\psi(\\vec{\\theta})\\big> = U( \\vec{\\theta} ) \\big| \\vec{0} \\big>\n",
    "\\end{equation}\n",
    "\n",
    "In order to find the expected value it is usefu to consider a general qubit of the form \n",
    "\n",
    "\\begin{equation}\n",
    "    \\big| \\psi \\big> = p_{00}\\big| 00 \\big> + p_{01}\\big| 01 \\big> + p_{10}\\big| 10 \\big> + p_{11}\\big| 11 \\big> \n",
    "\\end{equation}\n",
    "\n",
    "and consider the result of the expetation value of this state with a $\\sigma_{Z} \\otimes \\sigma_{Z}$\n",
    "\n",
    "\\begin{split}\n",
    "   \\big< \\psi \\big| \\sigma_{Z} \\otimes \\sigma_{Z} \\big| \\psi \\big> &= \\big< \\psi \\big| \\sigma_{Z} \\otimes \\sigma_{Z} \\Big(  p_{00}\\big| 00 \\big> + p_{01}\\big| 01 \\big> + p_{10}\\big| 10 \\big> + p_{11}\\big| 11 \\big> \\Big) \\\\\n",
    "   &=  \\big< \\psi \\big| \\Big(  p_{00}\\big| 00 \\big> - p_{01}\\big| 01 \\big> - p_{10}\\big| 10 \\big> + p_{11}\\big| 11 \\big>   \\Big) \\\\\n",
    "   &=  |p_{00}|^2 + |p_{11}|^2 - \\big( |p_{10}|^2 + |p_{01}|^2  \\big)\n",
    "\\end{split}\n",
    "\n",
    "so in order to measure the expectation value from the results of an experiment, we just need to sum the counts with the formula above. For the case when the other pauli matrices appear there only needs to be a change in the basis of the measurements as \n",
    "\n",
    "\\begin{align*}\n",
    "\\sigma_{X} &= (H)^{\\dagger} \\sigma_{Z} H \\\\\n",
    "\\sigma_{Y} &= (HS^{\\dagger})^{\\dagger} \\sigma_{Z} HS^{\\dagger}\n",
    "\\end{align*}\n",
    "\n"
   ]
  },
  {
   "cell_type": "code",
   "execution_count": 6,
   "metadata": {
    "scrolled": true
   },
   "outputs": [
    {
     "data": {
      "image/png": "[encoded data removed]",
      "text/plain": [
       "<Figure size 923.232x204.68 with 1 Axes>"
      ]
     },
     "execution_count": 6,
     "metadata": {},
     "output_type": "execute_result"
    }
   ],
   "source": [
    "def State_Preparation(theta,r = 1):\n",
    "\n",
    "    qc = QuantumCircuit(2,2)\n",
    "    \n",
    "    qc.ry(theta[1],0)\n",
    "    qc.ry(theta[0],1)\n",
    "    for i in range(2*r-1):\n",
    "        qc.cnot(0,1)\n",
    "    \n",
    "    qc.ry(theta[0],1)\n",
    "    for i in range(2*r-1):\n",
    "        qc.cnot(0,1)\n",
    "        \n",
    "    qc.ry(theta[2],1)\n",
    "    \n",
    "    \n",
    "    return qc\n",
    "\n",
    "#Example circuit \n",
    "qc = State_Preparation([1,math.pi,3],r=2)\n",
    "qc.draw('mpl')\n"
   ]
  },
  {
   "cell_type": "markdown",
   "metadata": {},
   "source": [
    "We are using the qasm_simulator because it mimicks the behaviour of an actual device (https://qiskit.org/documentation/tutorials/simulators/1_aer_provider.html)\n",
    "\n",
    "Give that we want to use mitiq to find "
   ]
  },
  {
   "cell_type": "code",
   "execution_count": 82,
   "metadata": {},
   "outputs": [
    {
     "name": "stdout",
     "output_type": "stream",
     "text": [
      "{'II': 0.0, 'IX': -0.92, 'IY': 0.0, 'IZ': 0.372, 'XI': 0.0, 'XX': -0.188, 'XY': 0.0, 'XZ': 0.0, 'YI': 0.0, 'YX': 0.0, 'YY': -0.01, 'YZ': 0.0, 'ZI': 0.98, 'ZX': -0.876, 'ZY': 0.0, 'ZZ': 0.406}\n"
     ]
    }
   ],
   "source": [
    "def expectation_measurement(qc,coef,shots=1000,backend = 'qasm_simulator', noise = False):\n",
    "\n",
    "    qc_state = qc.copy() #Save original state of quantum circuit\n",
    "    i = 0 #keeping track of which state\n",
    "    #Loop over possible gates\n",
    "    list_circuit = []\n",
    "    count = []\n",
    "    exp = coef.copy()\n",
    "    for key in coef.keys():\n",
    "        qc_state = qc.copy() #Recover the original circuit\n",
    "        if coef[key] == 0:   #Don't calculate expectation value if it doesn't have representaiton \n",
    "            continue  #Skip the coefficients we already know to be zero\n",
    "            #pass     #Calculate expectation value for all combinations\n",
    "        else:\n",
    "\n",
    "                #Add pauli gates for different expectation values\n",
    "            for q in range(2): #Lopp over two qubits\n",
    "                if key[q] == 'I' or key[q] == 'Z':\n",
    "                    pass\n",
    "                elif key[q] == 'X':\n",
    "                    qc_state.h(q)\n",
    "                elif key[q] == 'Y':\n",
    "                    qc_state.sdg(q)\n",
    "                    qc_state.h(q)\n",
    "\n",
    "                    \n",
    "                    \n",
    "            #Add measurement to the circut\n",
    "            qc_state.measure([0,1], [0,1])\n",
    "            \n",
    "            \n",
    "            if noise == False:\n",
    "                #Run the circuit \n",
    "                \n",
    "                job = execute(\n",
    "                experiments=qc_state,\n",
    "                #backend=provider.get_backend(\"machine name\") to run on hardware\n",
    "                backend=Aer.get_backend(backend),\n",
    "                optimization_level=0, shots=shots\n",
    "                )\n",
    "                \n",
    "            else:\n",
    "                #Run the circuit\n",
    "                #Note the order of the input tuple is coupling, basis and then noise\n",
    "                \n",
    "                job = execute(experiments = qc_state, backend = Aer.get_backend(backend),\n",
    "                 coupling_map=coupling_map,\n",
    "                 basis_gates=basis_gates,\n",
    "                 noise_model=noise_model,\n",
    "                 optimization_level=0, \n",
    "                 shots=shots\n",
    "                 )\n",
    "                \n",
    "                \n",
    "\n",
    "            #Extract the results counts \n",
    "            counts = job.result().get_counts()\n",
    "\n",
    "            #Insert missing counts in case they're zero\n",
    "            if '00' not in counts:\n",
    "                counts['00'] = 0\n",
    "            if '01' not in counts:\n",
    "                counts['01'] = 0\n",
    "            if '10' not in counts:\n",
    "                counts['10'] = 0\n",
    "            if '11' not in counts:\n",
    "                counts['11'] = 0 \n",
    "\n",
    "            if key[0] == 'I':\n",
    "                if key[1] == 'I':\n",
    "                    # Case + + + +\n",
    "                    total_counts = counts['00'] + counts['01'] + counts['10'] + counts['11']\n",
    "                    exp_counts = total_counts\n",
    "                    exp[key] = exp_counts/total_counts\n",
    "\n",
    "                else: \n",
    "                    # Case + - + - \n",
    "                    total_counts = counts['00'] + counts['01'] + counts['10'] + counts['11']\n",
    "                    exp_counts = counts['00'] + counts['01'] - counts['10'] - counts['11']\n",
    "                    exp[key] = exp_counts/total_counts\n",
    "            else:\n",
    "                if key[1] == 'I':\n",
    "                    #Case + + - -\n",
    "                    total_counts = counts['00'] + counts['01'] + counts['10'] + counts['11']\n",
    "                    exp_counts = counts['00'] - counts['01'] + counts['10'] - counts['11']\n",
    "                    exp[key] = exp_counts/total_counts\n",
    "\n",
    "                else:\n",
    "                    #Case + - - +\n",
    "                    total_counts = counts['00'] + counts['01'] + counts['10'] + counts['11']\n",
    "                    exp_counts = counts['00'] - counts['01'] - counts['10'] + counts['11']\n",
    "                    exp[key] = exp_counts/total_counts\n",
    "\n",
    "            list_circuit.append(qc_state)\n",
    "            count.append(counts)\n",
    "    return exp\n",
    "\n",
    "qc = State_Preparation([6.19169047, 0.23821273, 5.29788566])\n",
    "exp = expectation_measurement(qc,coef,noise = False)\n",
    "print(exp)\n"
   ]
  },
  {
   "cell_type": "markdown",
   "metadata": {},
   "source": [
    "Now we are in a position to construct the function to construct the function that gives the result of the expectation value "
   ]
  },
  {
   "cell_type": "code",
   "execution_count": 22,
   "metadata": {
    "scrolled": true
   },
   "outputs": [
    {
     "data": {
      "text/plain": [
       "-0.9739013418798095"
      ]
     },
     "execution_count": 22,
     "metadata": {},
     "output_type": "execute_result"
    }
   ],
   "source": [
    "def Expectation_Hamiltonian(theta,H,noise = False, r = 1,shots=1000,backend = 'qasm_simulator'):\n",
    "\n",
    "    #Find the Pauli decomposition\n",
    "    c = decomposition_H(H)\n",
    "    \n",
    "    #Define the wavefunction anzats \n",
    "    qc = State_Preparation(theta,r = r)\n",
    "    \n",
    "    #Expectation value for Pauli matrices\n",
    "    exp = expectation_measurement(qc,c,shots,backend,noise = noise)\n",
    "    \n",
    "    #Expectation value of hamiltonian \n",
    "    H_exp = 0\n",
    "    for key in c.keys():\n",
    "        H_exp += c[key]*exp[key]       \n",
    "    return H_exp\n",
    "\n",
    "theta =[6.19169047, 0.23821273, 5.29788566]\n",
    "Expectation_Hamiltonian(theta,H, noise = False)\n",
    "    "
   ]
  },
  {
   "cell_type": "markdown",
   "metadata": {},
   "source": [
    "We can construct now an optimization using COBYLA method that was found in the application process to be the most effecient one, as well as the recommended one inn the qiskit tutorial for VQE (https://qiskit.org/textbook/ch-applications/vqe-molecules.html). We will be using the scipy optimization package \n",
    "\n",
    "\n"
   ]
  },
  {
   "cell_type": "code",
   "execution_count": 30,
   "metadata": {},
   "outputs": [],
   "source": [
    "theta_0 = 2*math.pi*np.random.random([3]) #Initial random values\n",
    "results = []\n",
    "sol = opt.minimize(Expectation_Hamiltonian,theta_0,args=(HT),method='COBYLA',bounds=(0,2*math.pi), tol=1e-8)\n",
    "results.append(sol.fun)"
   ]
  },
  {
   "cell_type": "markdown",
   "metadata": {},
   "source": [
    "## Optimizing using zero noise extrapolation\n",
    "The recipe for using zero noise extrapolation is to find the optimal theta for r = 1, and then use those values to find the expectation results using unitary folding in the CNOT gates (how it was done in the paper although mitqit has no cnot folding only which is strange)\n",
    "Note that it is not the ideal way to do it, because you're using the r = 1 angles which might be noisy"
   ]
  },
  {
   "cell_type": "code",
   "execution_count": 66,
   "metadata": {},
   "outputs": [],
   "source": [
    "## First find the optimal theta for r = 1\n",
    "\n",
    "#Define type of model\n",
    "noise = input_noise\n",
    "#noise = False\n",
    "\n",
    "#Array with values for different noise parameters\n",
    "zne = [] \n",
    "\n",
    "#Obtain a solution with the standard circuit\n",
    "\n",
    "sol = opt.minimize(Expectation_Hamiltonian,2*math.pi*np.random.random([3])\n",
    "                   ,args=(HT,noise),method='COBYLA',tol=1e-8)\n",
    "\n",
    "#Extract values of theta and expectation value\n",
    "theta_zne = sol.x\n",
    "zne.append(sol.fun)\n",
    "\n",
    "# Finding expectation values for r = 3, 5 with previous theta\n",
    "for r in range(2,6):\n",
    "    zne.append(Expectation_Hamiltonian(theta_zne,HT,noise = noise, r = r))\n",
    "    \n",
    "# Extrapolate to r = 0 form previous n points \n",
    "\n"
   ]
  },
  {
   "cell_type": "code",
   "execution_count": 74,
   "metadata": {
    "scrolled": true
   },
   "outputs": [],
   "source": [
    "#zne_simulation = zne\n",
    "#zne_vigo = zne\n",
    "#zne_melbourne = zne\n",
    "#zne_santiago = zne\n",
    "#zne_ibmqx2 = zne\n",
    "zne_noextrap  = (zne_simulation,zne_vigo,zne_melbourne,zne_santiago,zne_ibmqx2)\n",
    "\n"
   ]
  },
  {
   "cell_type": "markdown",
   "metadata": {},
   "source": [
    "```\n",
    "#Graph results without extrapolation \n",
    "labels = [1,2,3,4,5]\n",
    "\n",
    "plt.figure()\n",
    "plt.plot(0,eigenHT[0],'ko')\n",
    "plt.plot(labels,zne_simulation,'ro')\n",
    "plt.plot(labels,zne_vigo,'bo')\n",
    "plt.plot(labels,zne_melbourne,'go')\n",
    "plt.plot(labels,zne_santiago,'co')\n",
    "plt.plot(labels,zne_ibmqx2,'yo')\n",
    "plt.gca().legend(('Exact','Simulation','Vigo','Melbourne','Santiago','Ibmqx2'))\n",
    "\n",
    "_ =plt.savefig('zne without extrapolation.png')\n",
    "plt.grid()\n",
    "\n",
    "np.savetxt(\"zne_noextrap.csv\",zne_noextrap, delimiter=\",\")\n",
    "```"
   ]
  },
  {
   "cell_type": "code",
   "execution_count": 72,
   "metadata": {},
   "outputs": [
    {
     "data": {
      "image/png": "[encoded data removed]",
      "text/plain": [
       "<IPython.core.display.Image object>"
      ]
     },
     "metadata": {},
     "output_type": "display_data"
    }
   ],
   "source": [
    "display(Image('zne without extrapolation.png'))"
   ]
  },
  {
   "cell_type": "markdown",
   "metadata": {},
   "source": [
    "To use mitiq with just a few lines of code, we simply need to define a function which inputs a circuit and outputs the expectation value to mitigate. This function will:\n",
    "\n",
    "Add measurement(s) to the circuit.\n",
    "\n",
    "Run the circuit.\n",
    "\n",
    "Convert from raw measurement statistics (or a different output format) to an expectation value.\n",
    "\n",
    "We define this function in the following code block. Because we are using IBMQ backends, we first load our account."
   ]
  },
  {
   "cell_type": "markdown",
   "metadata": {},
   "source": [
    "## Running with Noise\n",
    "We can see that the result of the VQE with a noiseless qasm simulator, we can try to add noise by running a simulation with the noise characteristics of a real quantum computer "
   ]
  },
  {
   "cell_type": "code",
   "execution_count": 65,
   "metadata": {},
   "outputs": [
    {
     "name": "stdout",
     "output_type": "stream",
     "text": [
      "([[0, 1], [1, 0], [1, 2], [1, 3], [2, 1], [3, 1], [3, 4], [4, 3]], ['cx', 'id', 'u2', 'u3'], NoiseModel:\n",
      "  Basis gates: ['cx', 'id', 'u2', 'u3']\n",
      "  Instructions with noise: ['measure', 'id', 'u3', 'cx', 'u2']\n",
      "  Qubits with noise: [0, 1, 2, 3, 4]\n",
      "  Specific qubit errors: [('id', [0]), ('id', [1]), ('id', [2]), ('id', [3]), ('id', [4]), ('u2', [0]), ('u2', [1]), ('u2', [2]), ('u2', [3]), ('u2', [4]), ('u3', [0]), ('u3', [1]), ('u3', [2]), ('u3', [3]), ('u3', [4]), ('cx', [3, 4]), ('cx', [4, 3]), ('cx', [3, 1]), ('cx', [1, 3]), ('cx', [1, 2]), ('cx', [2, 1]), ('cx', [0, 1]), ('cx', [1, 0]), ('measure', [0]), ('measure', [1]), ('measure', [2]), ('measure', [3]), ('measure', [4])])\n"
     ]
    }
   ],
   "source": [
    "#Select machine to imitate the noise\n",
    "\n",
    "machine = 'ibmq_vigo'\n",
    "#machine = 'ibmq_16_melbourne'\n",
    "#machine = 'ibmq_santiago'\n",
    "#machine = 'ibmqx2'\n",
    "\n",
    "backend = provider.get_backend(machine)\n",
    "noise_model = NoiseModel.from_backend(backend)\n",
    "\n",
    "# Get coupling map from backend\n",
    "coupling_map = backend.configuration().coupling_map\n",
    "\n",
    "# Get basis gates from noise model\n",
    "basis_gates = noise_model.basis_gates\n",
    "\n",
    "input_noise = (coupling_map,basis_gates,noise_model)\n"
   ]
  },
  {
   "cell_type": "code",
   "execution_count": 38,
   "metadata": {
    "scrolled": true
   },
   "outputs": [
    {
     "name": "stdout",
     "output_type": "stream",
     "text": [
      "-2.0848185709548344\n"
     ]
    }
   ],
   "source": [
    "theta_0 = 2*math.pi*np.random.random([3]) #Initial random values\n",
    "\n",
    "sol = opt.minimize(Expectation_Hamiltonian,theta_0,args=(HT,input_noise),method='COBYLA',bounds=(0,2*math.pi))\n",
    "print(sol.fun)\n",
    "results.append(sol.fun)"
   ]
  },
  {
   "cell_type": "code",
   "execution_count": 37,
   "metadata": {},
   "outputs": [],
   "source": [
    "results_noise = [-2.511639972107E+00,\n",
    "-2.458433722856E+00,\n",
    "-2.165740952187E+00,\n",
    "-2.219961298297E+00,\n",
    "-2.274047099602E+00,\n",
    "-2.084818570955E+00,\n",
    "]\n",
    "\n",
    "error_noise = []\n",
    "for i in range(len(results_noise)):\n",
    "    error_noise.append(abs(results_noise[i]-results_noise[0])*100/abs(results_noise[0]))"
   ]
  },
  {
   "cell_type": "code",
   "execution_count": 40,
   "metadata": {},
   "outputs": [
    {
     "data": {
      "text/plain": [
       "Text(0, 0.5, 'Error Percentage')"
      ]
     },
     "execution_count": 40,
     "metadata": {},
     "output_type": "execute_result"
    },
    {
     "data": {
      "image/png": "[encoded data removed]",
      "text/plain": [
       "<Figure size 432x288 with 2 Axes>"
      ]
     },
     "metadata": {
      "needs_background": "light"
     },
     "output_type": "display_data"
    }
   ],
   "source": [
    "labels = ['exact','simulator','ibqm_vigo','ibmq_16_melbourne','ibmq_santiago','ibmqx2']\n",
    "\n",
    "plt.figure(1)\n",
    "\n",
    "plt.subplot(2,1,1)\n",
    "plt.plot(labels,results_noise,'ro')\n",
    "plt.gcf().subplots_adjust(right = 1.5,top = 1.5,bottom = 0)\n",
    "plt.grid()\n",
    "plt.ylim([-2.6,-2])\n",
    "plt.ylabel('Ground energy value')\n",
    "\n",
    "\n",
    "plt.subplot(2,1,2)\n",
    "plt.bar(labels,error_noise)\n",
    "plt.ylabel('Error Percentage')\n"
   ]
  },
  {
   "cell_type": "markdown",
   "metadata": {},
   "source": [
    "## Using the mitiq platform "
   ]
  },
  {
   "cell_type": "markdown",
   "metadata": {},
   "source": [
    "Let's try to do some folding test with the trial circuit "
   ]
  },
  {
   "cell_type": "code",
   "execution_count": 79,
   "metadata": {
    "scrolled": true
   },
   "outputs": [
    {
     "data": {
      "image/png": "[encoded data removed]",
      "text/plain": [
       "<Figure size 682.432x144.48 with 1 Axes>"
      ]
     },
     "execution_count": 79,
     "metadata": {},
     "output_type": "execute_result"
    }
   ],
   "source": [
    "qc = State_Preparation([1,2,3])\n",
    "\n",
    "#folded = fold_gates_from_left(qc, scale_factor=2)\n",
    "#folded = fold_gates_from_right(qc, scale_factor=4,fidelities={\"single\": 1.0,\"CNOT\": 0.99})\n",
    "folded = fold_gates_at_random(qc, scale_factor=3,fidelities={\"single\": 1.0,\"CNOT\": 0.99})\n",
    "#folded = fold_global(qc, scale_factor=3,fidelities={\"single\": 1.0,\"CNOT\": 0.99})\n",
    "folded.draw('mpl')"
   ]
  },
  {
   "cell_type": "code",
   "execution_count": null,
   "metadata": {},
   "outputs": [],
   "source": [
    "import cirq\n",
    "from mitiq.zne.scaling import converter\n",
    "\n",
    "@converter\n",
    "def my_custom_folding_function(circuit: cirq.Circuit, scale_factor: float) -> cirq.Circuit:\n",
    "    # Insert custom folding method here\n",
    "    return folded_circuit\n",
    "\n",
    "    "
   ]
  },
  {
   "cell_type": "code",
   "execution_count": 93,
   "metadata": {},
   "outputs": [
    {
     "ename": "CircuitError",
     "evalue": "'Index out of range.'",
     "output_type": "error",
     "traceback": [
      "\u001b[1;31m---------------------------------------------------------------------------\u001b[0m",
      "\u001b[1;31mIndexError\u001b[0m                                Traceback (most recent call last)",
      "\u001b[1;32m~\\anaconda3\\envs\\qiskit_env\\lib\\site-packages\\qiskit\\circuit\\quantumcircuit.py\u001b[0m in \u001b[0;36m_bit_argument_conversion\u001b[1;34m(bit_representation, in_array)\u001b[0m\n\u001b[0;32m    729\u001b[0m                 \u001b[1;31m# circuit.h([qr[0],1])  -> circuit.h([qr[0], qr[1]])\u001b[0m\u001b[1;33m\u001b[0m\u001b[1;33m\u001b[0m\u001b[1;33m\u001b[0m\u001b[0m\n\u001b[1;32m--> 730\u001b[1;33m                 ret = [index if isinstance(index, Bit) else in_array[\n\u001b[0m\u001b[0;32m    731\u001b[0m                     index] for index in bit_representation]\n",
      "\u001b[1;32m~\\anaconda3\\envs\\qiskit_env\\lib\\site-packages\\qiskit\\circuit\\quantumcircuit.py\u001b[0m in \u001b[0;36m<listcomp>\u001b[1;34m(.0)\u001b[0m\n\u001b[0;32m    729\u001b[0m                 \u001b[1;31m# circuit.h([qr[0],1])  -> circuit.h([qr[0], qr[1]])\u001b[0m\u001b[1;33m\u001b[0m\u001b[1;33m\u001b[0m\u001b[1;33m\u001b[0m\u001b[0m\n\u001b[1;32m--> 730\u001b[1;33m                 ret = [index if isinstance(index, Bit) else in_array[\n\u001b[0m\u001b[0;32m    731\u001b[0m                     index] for index in bit_representation]\n",
      "\u001b[1;31mIndexError\u001b[0m: list index out of range",
      "\nDuring handling of the above exception, another exception occurred:\n",
      "\u001b[1;31mCircuitError\u001b[0m                              Traceback (most recent call last)",
      "\u001b[1;32m<ipython-input-93-bfaeb2d61bc7>\u001b[0m in \u001b[0;36m<module>\u001b[1;34m\u001b[0m\n\u001b[0;32m     12\u001b[0m \u001b[1;33m\u001b[0m\u001b[0m\n\u001b[0;32m     13\u001b[0m \u001b[1;31m#result = new_executor(qc)\u001b[0m\u001b[1;33m\u001b[0m\u001b[1;33m\u001b[0m\u001b[1;33m\u001b[0m\u001b[0m\n\u001b[1;32m---> 14\u001b[1;33m \u001b[0mmitigated\u001b[0m \u001b[1;33m=\u001b[0m \u001b[0mmitiq\u001b[0m\u001b[1;33m.\u001b[0m\u001b[0mexecute_with_zne\u001b[0m\u001b[1;33m(\u001b[0m\u001b[0mqc\u001b[0m\u001b[1;33m,\u001b[0m\u001b[0mnew_executor\u001b[0m\u001b[1;33m)\u001b[0m\u001b[1;33m\u001b[0m\u001b[1;33m\u001b[0m\u001b[0m\n\u001b[0m\u001b[0;32m     15\u001b[0m \u001b[1;33m\u001b[0m\u001b[0m\n",
      "\u001b[1;32m~\\anaconda3\\envs\\qiskit_env\\lib\\site-packages\\mitiq\\zne\\zne.py\u001b[0m in \u001b[0;36mexecute_with_zne\u001b[1;34m(qp, executor, factory, scale_noise, num_to_average)\u001b[0m\n\u001b[0;32m     60\u001b[0m         \u001b[1;32mraise\u001b[0m \u001b[0mValueError\u001b[0m\u001b[1;33m(\u001b[0m\u001b[1;34m\"Argument `num_to_average` must be a positive int.\"\u001b[0m\u001b[1;33m)\u001b[0m\u001b[1;33m\u001b[0m\u001b[1;33m\u001b[0m\u001b[0m\n\u001b[0;32m     61\u001b[0m \u001b[1;33m\u001b[0m\u001b[0m\n\u001b[1;32m---> 62\u001b[1;33m     \u001b[1;32mreturn\u001b[0m \u001b[0mfactory\u001b[0m\u001b[1;33m.\u001b[0m\u001b[0mrun\u001b[0m\u001b[1;33m(\u001b[0m\u001b[0mqp\u001b[0m\u001b[1;33m,\u001b[0m \u001b[0mexecutor\u001b[0m\u001b[1;33m,\u001b[0m \u001b[0mscale_noise\u001b[0m\u001b[1;33m,\u001b[0m \u001b[0mint\u001b[0m\u001b[1;33m(\u001b[0m\u001b[0mnum_to_average\u001b[0m\u001b[1;33m)\u001b[0m\u001b[1;33m)\u001b[0m\u001b[1;33m.\u001b[0m\u001b[0mreduce\u001b[0m\u001b[1;33m(\u001b[0m\u001b[1;33m)\u001b[0m\u001b[1;33m\u001b[0m\u001b[1;33m\u001b[0m\u001b[0m\n\u001b[0m\u001b[0;32m     63\u001b[0m \u001b[1;33m\u001b[0m\u001b[0m\n\u001b[0;32m     64\u001b[0m \u001b[1;33m\u001b[0m\u001b[0m\n",
      "\u001b[1;32m~\\anaconda3\\envs\\qiskit_env\\lib\\site-packages\\mitiq\\zne\\inference.py\u001b[0m in \u001b[0;36mrun\u001b[1;34m(self, qp, executor, scale_noise, num_to_average)\u001b[0m\n\u001b[0;32m    499\u001b[0m                 \u001b[0mres\u001b[0m \u001b[1;33m=\u001b[0m \u001b[0mexecutor\u001b[0m\u001b[1;33m(\u001b[0m\u001b[0mto_run\u001b[0m\u001b[1;33m,\u001b[0m \u001b[0mkwargs_list\u001b[0m\u001b[1;33m=\u001b[0m\u001b[0mkwargs_list\u001b[0m\u001b[1;33m)\u001b[0m\u001b[1;33m\u001b[0m\u001b[1;33m\u001b[0m\u001b[0m\n\u001b[0;32m    500\u001b[0m         \u001b[1;32melse\u001b[0m\u001b[1;33m:\u001b[0m\u001b[1;33m\u001b[0m\u001b[1;33m\u001b[0m\u001b[0m\n\u001b[1;32m--> 501\u001b[1;33m             res = [\n\u001b[0m\u001b[0;32m    502\u001b[0m                 \u001b[0mexecutor\u001b[0m\u001b[1;33m(\u001b[0m\u001b[0mcirc\u001b[0m\u001b[1;33m,\u001b[0m \u001b[1;33m**\u001b[0m\u001b[0mkwargs\u001b[0m\u001b[1;33m)\u001b[0m  \u001b[1;31m# type: ignore\u001b[0m\u001b[1;33m\u001b[0m\u001b[1;33m\u001b[0m\u001b[0m\n\u001b[0;32m    503\u001b[0m                 \u001b[1;32mfor\u001b[0m \u001b[0mcirc\u001b[0m\u001b[1;33m,\u001b[0m \u001b[0mkwargs\u001b[0m \u001b[1;32min\u001b[0m \u001b[0mzip\u001b[0m\u001b[1;33m(\u001b[0m\u001b[0mto_run\u001b[0m\u001b[1;33m,\u001b[0m \u001b[0mkwargs_list\u001b[0m\u001b[1;33m)\u001b[0m\u001b[1;33m\u001b[0m\u001b[1;33m\u001b[0m\u001b[0m\n",
      "\u001b[1;32m~\\anaconda3\\envs\\qiskit_env\\lib\\site-packages\\mitiq\\zne\\inference.py\u001b[0m in \u001b[0;36m<listcomp>\u001b[1;34m(.0)\u001b[0m\n\u001b[0;32m    500\u001b[0m         \u001b[1;32melse\u001b[0m\u001b[1;33m:\u001b[0m\u001b[1;33m\u001b[0m\u001b[1;33m\u001b[0m\u001b[0m\n\u001b[0;32m    501\u001b[0m             res = [\n\u001b[1;32m--> 502\u001b[1;33m                 \u001b[0mexecutor\u001b[0m\u001b[1;33m(\u001b[0m\u001b[0mcirc\u001b[0m\u001b[1;33m,\u001b[0m \u001b[1;33m**\u001b[0m\u001b[0mkwargs\u001b[0m\u001b[1;33m)\u001b[0m  \u001b[1;31m# type: ignore\u001b[0m\u001b[1;33m\u001b[0m\u001b[1;33m\u001b[0m\u001b[0m\n\u001b[0m\u001b[0;32m    503\u001b[0m                 \u001b[1;32mfor\u001b[0m \u001b[0mcirc\u001b[0m\u001b[1;33m,\u001b[0m \u001b[0mkwargs\u001b[0m \u001b[1;32min\u001b[0m \u001b[0mzip\u001b[0m\u001b[1;33m(\u001b[0m\u001b[0mto_run\u001b[0m\u001b[1;33m,\u001b[0m \u001b[0mkwargs_list\u001b[0m\u001b[1;33m)\u001b[0m\u001b[1;33m\u001b[0m\u001b[1;33m\u001b[0m\u001b[0m\n\u001b[0;32m    504\u001b[0m             ]\n",
      "\u001b[1;32m<ipython-input-93-bfaeb2d61bc7>\u001b[0m in \u001b[0;36mexecutor\u001b[1;34m(qc, coef, noise)\u001b[0m\n\u001b[0;32m      2\u001b[0m \u001b[1;33m\u001b[0m\u001b[0m\n\u001b[0;32m      3\u001b[0m \u001b[1;32mdef\u001b[0m \u001b[0mexecutor\u001b[0m\u001b[1;33m(\u001b[0m\u001b[0mqc\u001b[0m\u001b[1;33m,\u001b[0m \u001b[0mcoef\u001b[0m\u001b[1;33m,\u001b[0m \u001b[0mnoise\u001b[0m \u001b[1;33m=\u001b[0m \u001b[1;32mFalse\u001b[0m\u001b[1;33m)\u001b[0m \u001b[1;33m->\u001b[0m \u001b[0mfloat\u001b[0m\u001b[1;33m:\u001b[0m\u001b[1;33m\u001b[0m\u001b[1;33m\u001b[0m\u001b[0m\n\u001b[1;32m----> 4\u001b[1;33m     \u001b[0mexp\u001b[0m \u001b[1;33m=\u001b[0m \u001b[0mexpectation_measurement\u001b[0m\u001b[1;33m(\u001b[0m\u001b[0mqc\u001b[0m\u001b[1;33m,\u001b[0m\u001b[0mcoef\u001b[0m\u001b[1;33m)\u001b[0m\u001b[1;33m\u001b[0m\u001b[1;33m\u001b[0m\u001b[0m\n\u001b[0m\u001b[0;32m      5\u001b[0m     \u001b[0mresult\u001b[0m \u001b[1;33m=\u001b[0m \u001b[0mexp\u001b[0m\u001b[1;33m[\u001b[0m\u001b[1;34m'IX'\u001b[0m\u001b[1;33m]\u001b[0m\u001b[1;33m\u001b[0m\u001b[1;33m\u001b[0m\u001b[0m\n\u001b[0;32m      6\u001b[0m     \u001b[1;32mreturn\u001b[0m \u001b[0mresult\u001b[0m\u001b[1;33m\u001b[0m\u001b[1;33m\u001b[0m\u001b[0m\n",
      "\u001b[1;32m<ipython-input-82-7271c47ce606>\u001b[0m in \u001b[0;36mexpectation_measurement\u001b[1;34m(qc, coef, shots, backend, noise)\u001b[0m\n\u001b[0;32m     28\u001b[0m \u001b[1;33m\u001b[0m\u001b[0m\n\u001b[0;32m     29\u001b[0m             \u001b[1;31m#Add measurement to the circut\u001b[0m\u001b[1;33m\u001b[0m\u001b[1;33m\u001b[0m\u001b[1;33m\u001b[0m\u001b[0m\n\u001b[1;32m---> 30\u001b[1;33m             \u001b[0mqc_state\u001b[0m\u001b[1;33m.\u001b[0m\u001b[0mmeasure\u001b[0m\u001b[1;33m(\u001b[0m\u001b[1;33m[\u001b[0m\u001b[1;36m0\u001b[0m\u001b[1;33m,\u001b[0m\u001b[1;36m1\u001b[0m\u001b[1;33m]\u001b[0m\u001b[1;33m,\u001b[0m \u001b[1;33m[\u001b[0m\u001b[1;36m0\u001b[0m\u001b[1;33m,\u001b[0m\u001b[1;36m1\u001b[0m\u001b[1;33m]\u001b[0m\u001b[1;33m)\u001b[0m\u001b[1;33m\u001b[0m\u001b[1;33m\u001b[0m\u001b[0m\n\u001b[0m\u001b[0;32m     31\u001b[0m \u001b[1;33m\u001b[0m\u001b[0m\n\u001b[0;32m     32\u001b[0m \u001b[1;33m\u001b[0m\u001b[0m\n",
      "\u001b[1;32m~\\anaconda3\\envs\\qiskit_env\\lib\\site-packages\\qiskit\\circuit\\measure.py\u001b[0m in \u001b[0;36mmeasure\u001b[1;34m(self, qubit, cbit)\u001b[0m\n\u001b[0;32m     56\u001b[0m             \u001b[1;32mif\u001b[0m \u001b[0mcbit\u001b[0m \u001b[1;32mis\u001b[0m \u001b[1;32mnot\u001b[0m \u001b[1;32min\u001b[0m \u001b[0mthis\u001b[0m \u001b[0mcircuit\u001b[0m \u001b[1;32mor\u001b[0m \u001b[1;32mnot\u001b[0m \u001b[0mcreg\u001b[0m\u001b[1;33m.\u001b[0m\u001b[1;33m\u001b[0m\u001b[1;33m\u001b[0m\u001b[0m\n\u001b[0;32m     57\u001b[0m     \"\"\"\n\u001b[1;32m---> 58\u001b[1;33m     \u001b[1;32mreturn\u001b[0m \u001b[0mself\u001b[0m\u001b[1;33m.\u001b[0m\u001b[0mappend\u001b[0m\u001b[1;33m(\u001b[0m\u001b[0mMeasure\u001b[0m\u001b[1;33m(\u001b[0m\u001b[1;33m)\u001b[0m\u001b[1;33m,\u001b[0m \u001b[1;33m[\u001b[0m\u001b[0mqubit\u001b[0m\u001b[1;33m]\u001b[0m\u001b[1;33m,\u001b[0m \u001b[1;33m[\u001b[0m\u001b[0mcbit\u001b[0m\u001b[1;33m]\u001b[0m\u001b[1;33m)\u001b[0m\u001b[1;33m\u001b[0m\u001b[1;33m\u001b[0m\u001b[0m\n\u001b[0m\u001b[0;32m     59\u001b[0m \u001b[1;33m\u001b[0m\u001b[0m\n\u001b[0;32m     60\u001b[0m \u001b[1;33m\u001b[0m\u001b[0m\n",
      "\u001b[1;32m~\\anaconda3\\envs\\qiskit_env\\lib\\site-packages\\qiskit\\circuit\\quantumcircuit.py\u001b[0m in \u001b[0;36mappend\u001b[1;34m(self, instruction, qargs, cargs)\u001b[0m\n\u001b[0;32m    794\u001b[0m \u001b[1;33m\u001b[0m\u001b[0m\n\u001b[0;32m    795\u001b[0m         \u001b[0mexpanded_qargs\u001b[0m \u001b[1;33m=\u001b[0m \u001b[1;33m[\u001b[0m\u001b[0mself\u001b[0m\u001b[1;33m.\u001b[0m\u001b[0mqbit_argument_conversion\u001b[0m\u001b[1;33m(\u001b[0m\u001b[0mqarg\u001b[0m\u001b[1;33m)\u001b[0m \u001b[1;32mfor\u001b[0m \u001b[0mqarg\u001b[0m \u001b[1;32min\u001b[0m \u001b[0mqargs\u001b[0m \u001b[1;32mor\u001b[0m \u001b[1;33m[\u001b[0m\u001b[1;33m]\u001b[0m\u001b[1;33m]\u001b[0m\u001b[1;33m\u001b[0m\u001b[1;33m\u001b[0m\u001b[0m\n\u001b[1;32m--> 796\u001b[1;33m         \u001b[0mexpanded_cargs\u001b[0m \u001b[1;33m=\u001b[0m \u001b[1;33m[\u001b[0m\u001b[0mself\u001b[0m\u001b[1;33m.\u001b[0m\u001b[0mcbit_argument_conversion\u001b[0m\u001b[1;33m(\u001b[0m\u001b[0mcarg\u001b[0m\u001b[1;33m)\u001b[0m \u001b[1;32mfor\u001b[0m \u001b[0mcarg\u001b[0m \u001b[1;32min\u001b[0m \u001b[0mcargs\u001b[0m \u001b[1;32mor\u001b[0m \u001b[1;33m[\u001b[0m\u001b[1;33m]\u001b[0m\u001b[1;33m]\u001b[0m\u001b[1;33m\u001b[0m\u001b[1;33m\u001b[0m\u001b[0m\n\u001b[0m\u001b[0;32m    797\u001b[0m \u001b[1;33m\u001b[0m\u001b[0m\n\u001b[0;32m    798\u001b[0m         \u001b[0minstructions\u001b[0m \u001b[1;33m=\u001b[0m \u001b[0mInstructionSet\u001b[0m\u001b[1;33m(\u001b[0m\u001b[1;33m)\u001b[0m\u001b[1;33m\u001b[0m\u001b[1;33m\u001b[0m\u001b[0m\n",
      "\u001b[1;32m~\\anaconda3\\envs\\qiskit_env\\lib\\site-packages\\qiskit\\circuit\\quantumcircuit.py\u001b[0m in \u001b[0;36m<listcomp>\u001b[1;34m(.0)\u001b[0m\n\u001b[0;32m    794\u001b[0m \u001b[1;33m\u001b[0m\u001b[0m\n\u001b[0;32m    795\u001b[0m         \u001b[0mexpanded_qargs\u001b[0m \u001b[1;33m=\u001b[0m \u001b[1;33m[\u001b[0m\u001b[0mself\u001b[0m\u001b[1;33m.\u001b[0m\u001b[0mqbit_argument_conversion\u001b[0m\u001b[1;33m(\u001b[0m\u001b[0mqarg\u001b[0m\u001b[1;33m)\u001b[0m \u001b[1;32mfor\u001b[0m \u001b[0mqarg\u001b[0m \u001b[1;32min\u001b[0m \u001b[0mqargs\u001b[0m \u001b[1;32mor\u001b[0m \u001b[1;33m[\u001b[0m\u001b[1;33m]\u001b[0m\u001b[1;33m]\u001b[0m\u001b[1;33m\u001b[0m\u001b[1;33m\u001b[0m\u001b[0m\n\u001b[1;32m--> 796\u001b[1;33m         \u001b[0mexpanded_cargs\u001b[0m \u001b[1;33m=\u001b[0m \u001b[1;33m[\u001b[0m\u001b[0mself\u001b[0m\u001b[1;33m.\u001b[0m\u001b[0mcbit_argument_conversion\u001b[0m\u001b[1;33m(\u001b[0m\u001b[0mcarg\u001b[0m\u001b[1;33m)\u001b[0m \u001b[1;32mfor\u001b[0m \u001b[0mcarg\u001b[0m \u001b[1;32min\u001b[0m \u001b[0mcargs\u001b[0m \u001b[1;32mor\u001b[0m \u001b[1;33m[\u001b[0m\u001b[1;33m]\u001b[0m\u001b[1;33m]\u001b[0m\u001b[1;33m\u001b[0m\u001b[1;33m\u001b[0m\u001b[0m\n\u001b[0m\u001b[0;32m    797\u001b[0m \u001b[1;33m\u001b[0m\u001b[0m\n\u001b[0;32m    798\u001b[0m         \u001b[0minstructions\u001b[0m \u001b[1;33m=\u001b[0m \u001b[0mInstructionSet\u001b[0m\u001b[1;33m(\u001b[0m\u001b[1;33m)\u001b[0m\u001b[1;33m\u001b[0m\u001b[1;33m\u001b[0m\u001b[0m\n",
      "\u001b[1;32m~\\anaconda3\\envs\\qiskit_env\\lib\\site-packages\\qiskit\\circuit\\quantumcircuit.py\u001b[0m in \u001b[0;36mcbit_argument_conversion\u001b[1;34m(self, clbit_representation)\u001b[0m\n\u001b[0;32m    764\u001b[0m             \u001b[0mList\u001b[0m\u001b[1;33m(\u001b[0m\u001b[0mtuple\u001b[0m\u001b[1;33m)\u001b[0m\u001b[1;33m:\u001b[0m \u001b[0mWhere\u001b[0m \u001b[0meach\u001b[0m \u001b[0mtuple\u001b[0m \u001b[1;32mis\u001b[0m \u001b[0ma\u001b[0m \u001b[0mclassical\u001b[0m \u001b[0mbit\u001b[0m\u001b[1;33m.\u001b[0m\u001b[1;33m\u001b[0m\u001b[1;33m\u001b[0m\u001b[0m\n\u001b[0;32m    765\u001b[0m         \"\"\"\n\u001b[1;32m--> 766\u001b[1;33m         \u001b[1;32mreturn\u001b[0m \u001b[0mQuantumCircuit\u001b[0m\u001b[1;33m.\u001b[0m\u001b[0m_bit_argument_conversion\u001b[0m\u001b[1;33m(\u001b[0m\u001b[0mclbit_representation\u001b[0m\u001b[1;33m,\u001b[0m \u001b[0mself\u001b[0m\u001b[1;33m.\u001b[0m\u001b[0mclbits\u001b[0m\u001b[1;33m)\u001b[0m\u001b[1;33m\u001b[0m\u001b[1;33m\u001b[0m\u001b[0m\n\u001b[0m\u001b[0;32m    767\u001b[0m \u001b[1;33m\u001b[0m\u001b[0m\n\u001b[0;32m    768\u001b[0m     \u001b[1;32mdef\u001b[0m \u001b[0mappend\u001b[0m\u001b[1;33m(\u001b[0m\u001b[0mself\u001b[0m\u001b[1;33m,\u001b[0m \u001b[0minstruction\u001b[0m\u001b[1;33m,\u001b[0m \u001b[0mqargs\u001b[0m\u001b[1;33m=\u001b[0m\u001b[1;32mNone\u001b[0m\u001b[1;33m,\u001b[0m \u001b[0mcargs\u001b[0m\u001b[1;33m=\u001b[0m\u001b[1;32mNone\u001b[0m\u001b[1;33m)\u001b[0m\u001b[1;33m:\u001b[0m\u001b[1;33m\u001b[0m\u001b[1;33m\u001b[0m\u001b[0m\n",
      "\u001b[1;32m~\\anaconda3\\envs\\qiskit_env\\lib\\site-packages\\qiskit\\circuit\\quantumcircuit.py\u001b[0m in \u001b[0;36m_bit_argument_conversion\u001b[1;34m(bit_representation, in_array)\u001b[0m\n\u001b[0;32m    734\u001b[0m                                                                      type(bit_representation)))\n\u001b[0;32m    735\u001b[0m         \u001b[1;32mexcept\u001b[0m \u001b[0mIndexError\u001b[0m\u001b[1;33m:\u001b[0m\u001b[1;33m\u001b[0m\u001b[1;33m\u001b[0m\u001b[0m\n\u001b[1;32m--> 736\u001b[1;33m             \u001b[1;32mraise\u001b[0m \u001b[0mCircuitError\u001b[0m\u001b[1;33m(\u001b[0m\u001b[1;34m'Index out of range.'\u001b[0m\u001b[1;33m)\u001b[0m\u001b[1;33m\u001b[0m\u001b[1;33m\u001b[0m\u001b[0m\n\u001b[0m\u001b[0;32m    737\u001b[0m         \u001b[1;32mexcept\u001b[0m \u001b[0mTypeError\u001b[0m\u001b[1;33m:\u001b[0m\u001b[1;33m\u001b[0m\u001b[1;33m\u001b[0m\u001b[0m\n\u001b[0;32m    738\u001b[0m             raise CircuitError('Type error handling %s (%s)' % (bit_representation,\n",
      "\u001b[1;31mCircuitError\u001b[0m: 'Index out of range.'"
     ]
    }
   ],
   "source": [
    "from functools import partial\n",
    "\n",
    "def executor(qc, coef, noise = False) -> float:\n",
    "    exp = expectation_measurement(qc,coef)\n",
    "    result = exp['IX']\n",
    "    return result\n",
    "\n",
    "new_executor = partial(\n",
    "    executor,\n",
    "    coef = coef\n",
    ")\n",
    "\n",
    "#result = new_executor(qc)\n",
    "mitigated = mitiq.execute_with_zne(qc,new_executor)\n",
    "\n"
   ]
  },
  {
   "cell_type": "markdown",
   "metadata": {},
   "source": [
    "We seem to be having troubles trying to get the zne from mitqit to run so we will modify the expectation_function as to not modify the circuit structure for several deep copies (could that be the issue?), maybe the fact that we modify the circuit inside the executor "
   ]
  },
  {
   "cell_type": "code",
   "execution_count": null,
   "metadata": {},
   "outputs": [],
   "source": [
    "def zne_State_Preparation(theta,)"
   ]
  }
 ],
 "metadata": {
  "kernelspec": {
   "display_name": "Python 3",
   "language": "python",
   "name": "python3"
  },
  "language_info": {
   "codemirror_mode": {
    "name": "ipython",
    "version": 3
   },
   "file_extension": ".py",
   "mimetype": "text/x-python",
   "name": "python",
   "nbconvert_exporter": "python",
   "pygments_lexer": "ipython3",
   "version": "3.8.5"
  }
 },
 "nbformat": 4,
 "nbformat_minor": 4
}
