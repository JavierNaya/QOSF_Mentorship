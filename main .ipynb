{
 "cells": [
  {
   "cell_type": "code",
   "execution_count": 1,
   "metadata": {},
   "outputs": [
    {
     "name": "stderr",
     "output_type": "stream",
     "text": [
      "C:\\Users\\javie\\anaconda3\\envs\\qiskit_env\\lib\\site-packages\\qiskit\\providers\\ibmq\\ibmqfactory.py:192: UserWarning: Timestamps in IBMQ backend properties, jobs, and job results are all now in local time instead of UTC.\n",
      "  warnings.warn('Timestamps in IBMQ backend properties, jobs, and job results '\n"
     ]
    }
   ],
   "source": [
    "# Importing required packages \n",
    "from qiskit import IBMQ, QuantumCircuit, Aer, execute, ClassicalRegister\n",
    "from qiskit.quantum_info import Operator, Statevector, state_fidelity\n",
    "from qiskit.visualization import plot_state_qsphere, plot_histogram, plot_state_city\n",
    "from qiskit.aqua.components.optimizers import COBYLA\n",
    "from qiskit.providers.aer.noise import NoiseModel\n",
    "from qiskit.aqua.algorithms import VQE\n",
    "import numpy as np\n",
    "import random, math\n",
    "from scipy import optimize as opt\n",
    "import matplotlib.pyplot as plt\n",
    "from IPython.display import Image\n",
    "import mitiq\n",
    "\n",
    "provider = IBMQ.load_account()\n"
   ]
  },
  {
   "cell_type": "markdown",
   "metadata": {},
   "source": [
    "# Introduction \n",
    "\n",
    "Quantum computers provide a natural platform to perform simulations for the evolution of systems\n",
    "Proposals of simulations of quantum field theories and experimental implementation (Zoller etc.) \n",
    "Klco et al. reducing the physical space and studying the discretized Schwinger model, proposal to study the noise restrictions they faced with the help of the mitiq package"
   ]
  },
  {
   "cell_type": "markdown",
   "metadata": {},
   "source": [
    "## VQE of the ground state energy \n",
    "\n",
    "Through the use of physical symmetries within the system it is possible to restrict the matrix to the form \n",
    "\n",
    "\\begin{equation}\n",
    "H_{k=0,+}^{\\lambda^2 = 3} =\n",
    "\\begin{pmatrix}\n",
    "-2\\mu & 2x & 0 & 0\\\\\n",
    "2x & 1 & \\sqrt{2}x & 0\\\\\n",
    "0 & \\sqrt{2}x & 2 + 2\\mu & \\sqrt{2}x \\\\\n",
    "0 & 0 & \\sqrt{2}x & 3 \n",
    "\\end{pmatrix}\n",
    "\\end{equation}\n",
    "\n",
    "This 4x4 matrix can then be expressed in term of the polywords. \n",
    "\n",
    "\\begin{equation}\n",
    "\\cal{O}_{i,j} = \\frac{1}{4}\\sigma_{i} \\otimes \\sigma_{j} \n",
    "\\end{equation}\n",
    "with $i,j = 0,1,2,3$ representing the Pauli matrices. Such that the hamiltonian is written as\n",
    "\\begin{equation}\n",
    "H = \\sum_{i,j} c_{i,j}\\cal{O}_{i,j}\n",
    "\\end{equation} \n",
    "with each coefficient calculated as inner product of the matrices with the Hamiltonian (equivalent to finding the coefficients of real vector through the application of dot products) \n",
    "\n",
    "\\begin{equation}\n",
    "c_{i,j} = Tr( \\cal{O}^{\\dagger}H) = Tr( \\cal{O}H) \n",
    "\\end{equation}\n",
    "\n",
    "\n",
    "\n",
    "\n",
    "\n",
    "Supposing we already have the decomposition then we can then express the expectation value of the energy of the hamiltonian as \n",
    "\n",
    "\\begin{equation} \n",
    "    \\left< H \\right>_{\\theta} = \\sum_{i}c_{i} \\big< \\psi(\\vec{\\theta}) \\big| \\cal{O}_{i} \\big| \\psi(\\vec{\\theta})\\big>\n",
    "\\end{equation}\n",
    "\n",
    "where the initial state $\\big| \\psi(\\vec{\\theta})\\big> $ is determined to an specific anzats created by the circuit in E10  \n",
    "\n",
    "To properly implement in qiskit we use the RX,RY and RZ defined as \n",
    " \n",
    "\\begin{align*} \n",
    "RX(\\theta) &= e^{-i\\theta\\frac{\\sigma_{X}}{2}} \\\\ \n",
    "RY(\\theta) &= e^{-i\\theta\\frac{\\sigma_{Y}}{2}} \\\\\n",
    "RZ(\\theta) &= e^{-i\\theta\\frac{\\sigma_{Z}}{2}} \\\\ \n",
    "\\end{align*}\n",
    "\n",
    "The created circuit is such that \n",
    "\n",
    "\\begin{equation}\n",
    "    \\big| \\psi(\\vec{\\theta})\\big> = U( \\vec{\\theta} ) \\big| \\vec{0} \\big>\n",
    "\\end{equation}\n",
    "\n",
    "In order to find the expected value it is usefu to consider a general qubit of the form \n",
    "\n",
    "\\begin{equation}\n",
    "    \\big| \\psi \\big> = p_{00}\\big| 00 \\big> + p_{01}\\big| 01 \\big> + p_{10}\\big| 10 \\big> + p_{11}\\big| 11 \\big> \n",
    "\\end{equation}\n",
    "\n",
    "and consider the result of the expetation value of this state with a $\\sigma_{Z} \\otimes \\sigma_{Z}$\n",
    "\n",
    "\\begin{split}\n",
    "   \\big< \\psi \\big| \\sigma_{Z} \\otimes \\sigma_{Z} \\big| \\psi \\big> &= \\big< \\psi \\big| \\sigma_{Z} \\otimes \\sigma_{Z} \\Big(  p_{00}\\big| 00 \\big> + p_{01}\\big| 01 \\big> + p_{10}\\big| 10 \\big> + p_{11}\\big| 11 \\big> \\Big) \\\\\n",
    "   &=  \\big< \\psi \\big| \\Big(  p_{00}\\big| 00 \\big> - p_{01}\\big| 01 \\big> - p_{10}\\big| 10 \\big> + p_{11}\\big| 11 \\big>   \\Big) \\\\\n",
    "   &=  |p_{00}|^2 + |p_{11}|^2 - \\big( |p_{10}|^2 + |p_{01}|^2  \\big)\n",
    "\\end{split}\n",
    "\n",
    "so in order to measure the expectation value from the results of an experiment, we just need to sum the counts with the formula above. For the case when the other pauli matrices appear there only needs to be a change in the basis of the measurements as \n",
    "\n",
    "\\begin{align*}\n",
    "\\sigma_{X} &= (H)^{\\dagger} \\sigma_{Z} H \\\\\n",
    "\\sigma_{Y} &= (HS^{\\dagger})^{\\dagger} \\sigma_{Z} HS^{\\dagger}\n",
    "\\end{align*}\n",
    "\n",
    "\n"
   ]
  },
  {
   "cell_type": "code",
   "execution_count": 2,
   "metadata": {},
   "outputs": [
    {
     "name": "stdout",
     "output_type": "stream",
     "text": [
      "[-1.01163997  1.10260078  2.26804891  3.64099028]\n"
     ]
    }
   ],
   "source": [
    "def Hamiltonian(mu,x):\n",
    "    \"\"\"\n",
    "    Calculates a numpy array with numerical values for the Hamiltonian defined above\n",
    "\n",
    "    Parameters\n",
    "    mu : Float value describing relative mass in the model\n",
    "    x : Float value describing relative lattice spacing in the model \n",
    "    \n",
    "    Return\n",
    "    H : 4x4 numpy array with numerical values of the hamiltonian\n",
    "    HT : 4x4 numpy array with traceless hamiltonian (extracting the terms proportional to the identity)                 \n",
    "    \"\"\"       \n",
    "    \n",
    "    #Defining array \n",
    "    H = np.array([[-2*mu, 2*x, 0, 0],\\\n",
    "                  [2*x, 1, np.sqrt(2)*x, 0],\\\n",
    "                  [0, np.sqrt(2)*x, 2+2*mu, np.sqrt(2)*x],\\\n",
    "                  [0, 0, np.sqrt(2)*x, 3]])\n",
    "    \n",
    "    #Eliminating terms proportional to the identity \n",
    "    HT = H - (3/2)*np.eye(4)\n",
    "    \n",
    "    return H,HT\n",
    "\n",
    "\n",
    "#Values used in the paper minimization\n",
    "[H,HT] = Hamiltonian(0.1,0.6)\n",
    "\n",
    "#Analitical minimal values\n",
    "eigenH,eigenHT = np.linalg.eig(H);\n",
    "print(eigenH)"
   ]
  },
  {
   "cell_type": "markdown",
   "metadata": {},
   "source": [
    "To archive our task we will develop independent functions that will calculate the pauli matrix decomposition of the hamiltonian, in order to succesfully calculate the expectation value. \n",
    "Then we will utilize the circuit anzat from the paper and implement with three free parameters to optimize for.\n",
    "A function that will modify such circuit to find the right measurement reference\n",
    "And a function that will run the cirucit and extract the expectation values for different pauli coefficients \n"
   ]
  },
  {
   "cell_type": "code",
   "execution_count": 3,
   "metadata": {},
   "outputs": [],
   "source": [
    "def Decomposition_H(H):\n",
    "    \"\"\"\n",
    "    Decomposes the previous hamiltonian into the respective pauli matrices (pauli-words) components.\n",
    "    Uses inner product with the pauli matrices as defined above. \n",
    "\n",
    "    Parameters\n",
    "    H : 4x4 hermitian numpy array \n",
    "    \n",
    "    Return\n",
    "    c : Dictionary with pauli words as keys and the respective coefficient. \n",
    "        eg. {'II': 0, 'IX': 0.32,...}                      \n",
    "    \"\"\"\n",
    "    \n",
    "    #Definition of the pauli matrices \n",
    "    sigma_0 = np.eye(2)\n",
    "    sigma_X = np.array([[0,1],[1,0]])\n",
    "    sigma_Y = np.array([[0,-1j],[1j,0]])\n",
    "    sigma_Z = np.array([[1,0],[0,-1]])\n",
    "    Pauli = [sigma_0,sigma_X,sigma_Y,sigma_Z]\n",
    "    Pauli_name = ['I','X','Y','Z']\n",
    "    \n",
    "    #Creaiton of the pauli_words (tensor products of pauli matrices)\n",
    "    ii = 0 \n",
    "    Poly = []\n",
    "    Poly_name = []\n",
    "    for i in Pauli:\n",
    "        jj = 0\n",
    "        for j in Pauli:\n",
    "            Poly.append(np.kron(i,j))\n",
    "            Poly_name.append(Pauli_name[ii] + Pauli_name[jj])\n",
    "            jj += 1\n",
    "        ii += 1\n",
    "    \n",
    "    #Doing the partial trace for the coefficinets \n",
    "    c = {}\n",
    "    for i in range(len(Poly)):\n",
    "        c[Poly_name[i]] = np.real(np.trace(np.matmul(Poly[i],H))/4)\n",
    "        \n",
    "    return c\n",
    "\n",
    "\n",
    "\n",
    "def State_Preparation(theta,r = 1):\n",
    "    \"\"\"\n",
    "    Creates a qiskit quantum circuit with the anzat described in the paper. Doesn't include measurement operations.\n",
    "    Includes option to scale the CNOT gates manually. \n",
    "\n",
    "    Parameters\n",
    "    theta : 1x3 numpy array with the values of the R_{y} gates defined according to the paper anzats. \n",
    "    r : Scaling factor for the CNOT gates, adds 2 CNOT gates representing the Identity gate for each level\n",
    "        eg. r = 2, adds two gates on the right of each CNOT gate in the circuit\n",
    "    \n",
    "    Return\n",
    "    qc: Qiskit quantum circuit object               \n",
    "    \"\"\"\n",
    "    #Start quantum circuit object with 2 qubits\n",
    "    qc = QuantumCircuit(2)\n",
    "    \n",
    "    #Add gates \n",
    "    qc.ry(theta[1],0)\n",
    "    qc.ry(theta[0],1)\n",
    "    for i in range(2*r-1):\n",
    "        qc.cnot(0,1)\n",
    "    \n",
    "    qc.ry(theta[0],1)\n",
    "    for i in range(2*r-1):\n",
    "        qc.cnot(0,1)\n",
    "        \n",
    "    qc.ry(theta[2],1)\n",
    "    \n",
    "    return qc\n",
    "\n",
    "\n",
    "def Circuit_Measurement(qc,key):\n",
    "    \"\"\"\n",
    "    Transform the measurement basis according to the description above according to which pauli-word expectation\n",
    "    value will be calculated. Adds  Measurement to the circuit. \n",
    "\n",
    "    Parameters\n",
    "    qc : Quantum circuit for which expectation value is desired to be calculated\n",
    "    key : Key describing the pauli-words according to the dictionary defined in 'Decomposition'\n",
    "          eg. of the form 'IX', 'ZZ', 'YX'.\n",
    "    \n",
    "    Return\n",
    "    qc_state: Qiskit quantum circuit object ready to be executed\n",
    "    \"\"\"\n",
    "    \n",
    "    qc_state = qc.copy() #save original state of quantum circuit\n",
    "    qc_state.add_register(ClassicalRegister(2)) #adding of classical registers\n",
    "    \n",
    "    #Add pauli gates for different expectation values\n",
    "    for q in range(2): #Lopp over two qubits\n",
    "        if key[q] == 'I' or key[q] == 'Z':\n",
    "            pass\n",
    "        elif key[q] == 'X':\n",
    "            qc_state.h(q)\n",
    "        elif key[q] == 'Y':\n",
    "            qc_state.sdg(q)\n",
    "            qc_state.h(q)\n",
    "                    \n",
    "    #Add measurement to the circut\n",
    "    qc_state.measure([0,1], [0,1])\n",
    "    \n",
    "    return qc_state\n",
    "\n",
    "\n",
    "def Expectation_Measurement(qc,key,shots=8192,backend = 'qasm_simulator', noise = False):\n",
    "    \"\"\"\n",
    "    Runs the desired quantum circuit to calculate the expectation of desired polyword according to the description above.\n",
    "    Allows to run either on a simulated or real machine, with the option of simulating the noise of a real machine. \n",
    "\n",
    "    Parameters\n",
    "    qc : Quantum circuit for which expectation value is desired to be calculated, should have measurements included\n",
    "    key : Key describing the pauli-words according to the dictionary defined in 'Decomposition'\n",
    "          eg. of the form 'IX', 'ZZ', 'YX'.\n",
    "    backend : String containing backend to be used, 'qasm_simulator' simulates withouth running on a real device. In case \n",
    "              it is desired to run on a real device include the name of the machine and set noise = False. \n",
    "    noise\n",
    "    \n",
    "    Return\n",
    "    qc_state: Qiskit quantum circuit object ready to be executed\n",
    "    \"\"\"\n",
    "    want to run on the machine, noise should be set to false and backend with the name of the machine selected\n",
    "       \n",
    "    if noise == False:\n",
    "        #Run the circuit \n",
    "\n",
    "        job = execute(\n",
    "        experiments=qc,\n",
    "        #backend=provider.get_backend(\"machine name\") to run on hardware\n",
    "        backend=Aer.get_backend(backend),\n",
    "        optimization_level=0, shots=shots\n",
    "        )\n",
    "\n",
    "    else:\n",
    "        #Run the circuit\n",
    "        #Note the order of the input tuple is coupling, basis and then noise\n",
    "        backend_noise = provider.get_backend(noise)\n",
    "        noise_model = NoiseModel.from_backend(backend_noise)\n",
    "        coupling_map = backend_noise.configuration().coupling_map\n",
    "        basis_gates = noise_model.basis_gates\n",
    "\n",
    "        job = execute(experiments = qc, backend = Aer.get_backend(backend),\n",
    "         coupling_map= coupling_map,\n",
    "         basis_gates=basis_gates,\n",
    "         noise_model=noise_model,\n",
    "         optimization_level=0, \n",
    "         shots=shots\n",
    "         )\n",
    "\n",
    "    #Extract the results counts \n",
    "    counts_original = job.result().get_counts()\n",
    "    counts = {}\n",
    "    \n",
    "    for key_count in counts_original.keys():\n",
    "        counts[key_count.replace(\" \",\"\")] = counts_original[key_count]\n",
    "    \n",
    "    #Insert missing counts in case they're zero\n",
    "    if '00' not in counts:\n",
    "        counts['00'] = 0\n",
    "    if '01' not in counts:\n",
    "        counts['01'] = 0\n",
    "    if '10' not in counts:\n",
    "        counts['10'] = 0\n",
    "    if '11' not in counts:\n",
    "        counts['11'] = 0 \n",
    "\n",
    "    if key[0] == 'I':\n",
    "        if key[1] == 'I':            \n",
    "            # Case + + + +\n",
    "            exp_counts = counts['00'] + counts['01'] + counts['10'] + counts['11']\n",
    "            exp = exp_counts/shots\n",
    "\n",
    "        else: \n",
    "            # Case + - + - \n",
    "            exp_counts = counts['00'] + counts['01'] - counts['10'] - counts['11']\n",
    "            exp = exp_counts/shots\n",
    "    else:\n",
    "        if key[1] == 'I':\n",
    "            #Case + + - -\n",
    "            exp_counts = counts['00'] - counts['01'] + counts['10'] - counts['11']\n",
    "            exp = exp_counts/shots\n",
    "\n",
    "        else:\n",
    "            #Case + - - +\n",
    "            exp_counts = counts['00'] - counts['01'] - counts['10'] + counts['11']\n",
    "            exp = exp_counts/shots\n",
    "\n",
    "    return exp\n"
   ]
  },
  {
   "cell_type": "code",
   "execution_count": 4,
   "metadata": {
    "scrolled": true
   },
   "outputs": [
    {
     "name": "stdout",
     "output_type": "stream",
     "text": [
      "{'II': 1.5, 'IX': 1.0242640687119284, 'IY': 0.0, 'IZ': -0.49999999999999994, 'XI': 0.0, 'XX': 0.4242640687119285, 'XY': 0.0, 'XZ': 0.0, 'YI': 0.0, 'YX': 0.0, 'YY': 0.4242640687119285, 'YZ': 0.0, 'ZI': -1.1, 'ZX': 0.17573593128807144, 'ZY': 0.0, 'ZZ': -0.10000000000000009}\n",
      "     ┌────────────┐                                      \n",
      "q_0: ┤ RY(3.6618) ├──■──────────────────■────────────────\n",
      "     ├────────────┤┌─┴─┐┌────────────┐┌─┴─┐┌────────────┐\n",
      "q_1: ┤ RY(7.2703) ├┤ X ├┤ RY(7.2703) ├┤ X ├┤ RY(1.8567) ├\n",
      "     └────────────┘└───┘└────────────┘└───┘└────────────┘\n",
      "      ┌────────────┐                                      ┌─┐   \n",
      " q_0: ┤ RY(3.6618) ├──■──────────────────■────────────────┤M├───\n",
      "      ├────────────┤┌─┴─┐┌────────────┐┌─┴─┐┌────────────┐└╥┘┌─┐\n",
      " q_1: ┤ RY(7.2703) ├┤ X ├┤ RY(7.2703) ├┤ X ├┤ RY(1.8567) ├─╫─┤M├\n",
      "      └────────────┘└───┘└────────────┘└───┘└────────────┘ ║ └╥┘\n",
      "c0: 2/═════════════════════════════════════════════════════╩══╩═\n",
      "                                                           0  1 \n",
      "-0.86767578125\n"
     ]
    }
   ],
   "source": [
    "#Example dictionary result\n",
    "coef = Decomposition_H(H)\n",
    "print(coef)\n",
    "\n",
    "#Example circuit for state preparation \n",
    "qc = State_Preparation([7.27033532, 3.66176275, 1.85667239],r=1)\n",
    "print(qc)\n",
    "\n",
    "#Example for circuit to measure 'IX' expectation value\n",
    "qc_IX = Circuit_Measurement(qc,'ZI')\n",
    "print(qc_IX)\n",
    "\n",
    "#Example of expectation value run for quantum circuit IX with parameters in qc\n",
    "Expectation_IX = Expectation_Measurement(qc_IX,'ZI',noise = False )\n",
    "print(Expectation_IX)"
   ]
  },
  {
   "cell_type": "markdown",
   "metadata": {},
   "source": [
    "We are using the qasm_simulator because it mimicks the behaviour of an actual device (https://qiskit.org/documentation/tutorials/simulators/1_aer_provider.html)\n",
    "\n",
    "Give that we want to use mitiq to find "
   ]
  },
  {
   "cell_type": "markdown",
   "metadata": {},
   "source": [
    "Now we are in a position to construct the function to construct the function that gives the result of the expectation value "
   ]
  },
  {
   "cell_type": "code",
   "execution_count": 6,
   "metadata": {
    "scrolled": true
   },
   "outputs": [
    {
     "data": {
      "text/plain": [
       "-0.7487613112575202"
      ]
     },
     "execution_count": 6,
     "metadata": {},
     "output_type": "execute_result"
    }
   ],
   "source": [
    "def Expectation_Hamiltonian(theta,H,noise = False, r = 1,shots=8192,backend = 'qasm_simulator'):\n",
    "\n",
    "    #Find the Pauli decomposition\n",
    "    c = Decomposition_H(H)\n",
    "    exp_key = c.copy() #copy the dictionary \n",
    "    \n",
    "    #Define the wavefunction anzats \n",
    "    qc = State_Preparation(theta,r = r)\n",
    "    \n",
    "    H_exp = 0 #Expectation value initiation\n",
    "    \n",
    "    for keys in c.keys():\n",
    "        if c[keys] == 0: #If contribution is zero then skip step\n",
    "            continue\n",
    "        \n",
    "        #Expectation value for Pauli matrices\n",
    "        qc_key = Circuit_Measurement(qc,keys)\n",
    "        \n",
    "        #Run for expectation value\n",
    "        exp_key[keys] = Expectation_Measurement(qc_key,keys,shots = shots,backend = backend,noise = noise)\n",
    "        H_exp += c[keys]*exp_key[keys]\n",
    "    return H_exp\n",
    "\n",
    "#theta =[6.19169047, 0.23821273, 5.29788566]\n",
    "theta = [7.27033532, 3.66176275, 1.85667239]\n",
    "theta = [1.14854552, 6.03981858, 3.3317199 ]\n",
    "Expectation_Hamiltonian(theta,H, noise = False,shots = 100000)\n",
    "    \n",
    "    \n"
   ]
  },
  {
   "cell_type": "markdown",
   "metadata": {},
   "source": [
    "We can construct now an optimization using COBYLA method that was found in the application process to be the most effecient one, as well as the recommended one inn the qiskit tutorial for VQE (https://qiskit.org/textbook/ch-applications/vqe-molecules.html). We will be using the scipy optimization package \n",
    "\n",
    "\n"
   ]
  },
  {
   "cell_type": "code",
   "execution_count": 7,
   "metadata": {},
   "outputs": [],
   "source": [
    "def Optimize(H,noise = False, r = 1,shots=8192,backend = 'qasm_simulator'):\n",
    "\n",
    "    theta_0 = 2*math.pi*np.random.random([3]) #Initial random values\n",
    "    sol = opt.minimize(Expectation_Hamiltonian,theta_0,args=(H,noise,r,shots,backend),method='COBYLA',bounds=(0,2*math.pi), tol=1e-9)\n",
    "    #results.append(sol.fun)\n",
    "    \n",
    "    return sol"
   ]
  },
  {
   "cell_type": "code",
   "execution_count": 9,
   "metadata": {},
   "outputs": [
    {
     "name": "stdout",
     "output_type": "stream",
     "text": [
      "     fun: -0.9973217443927346\n",
      "   maxcv: 0.0\n",
      " message: 'Optimization terminated successfully.'\n",
      "    nfev: 69\n",
      "  status: 1\n",
      " success: True\n",
      "       x: array([2.39581172, 5.94579978, 0.29905988]) [2.39581172 5.94579978 0.29905988]\n"
     ]
    }
   ],
   "source": [
    "sol = Optimize(H,shots = 50000)\n",
    "print(sol,sol.x)"
   ]
  },
  {
   "cell_type": "markdown",
   "metadata": {},
   "source": [
    "## Optimizing using zero noise extrapolation\n",
    "The recipe for using zero noise extrapolation is to find the optimal theta for r = 1, and then use those values to find the expectation results using unitary folding in the CNOT gates (how it was done in the paper although mitqit has no cnot folding only which is strange)\n",
    "Note that it is not the ideal way to do it, because you're using the r = 1 angles which might be noisy"
   ]
  },
  {
   "cell_type": "code",
   "execution_count": 5,
   "metadata": {},
   "outputs": [
    {
     "ename": "NameError",
     "evalue": "name 'Optimize' is not defined",
     "output_type": "error",
     "traceback": [
      "\u001b[1;31m---------------------------------------------------------------------------\u001b[0m",
      "\u001b[1;31mNameError\u001b[0m                                 Traceback (most recent call last)",
      "\u001b[1;32m<ipython-input-5-4899df024fc7>\u001b[0m in \u001b[0;36m<module>\u001b[1;34m\u001b[0m\n\u001b[0;32m     18\u001b[0m \u001b[1;32mfor\u001b[0m \u001b[0mn\u001b[0m \u001b[1;32min\u001b[0m \u001b[0mnoise\u001b[0m\u001b[1;33m:\u001b[0m\u001b[1;33m\u001b[0m\u001b[1;33m\u001b[0m\u001b[0m\n\u001b[0;32m     19\u001b[0m     \u001b[0mNoise_extrapolation\u001b[0m \u001b[1;33m=\u001b[0m \u001b[1;33m[\u001b[0m\u001b[1;33m]\u001b[0m\u001b[1;33m\u001b[0m\u001b[1;33m\u001b[0m\u001b[0m\n\u001b[1;32m---> 20\u001b[1;33m     \u001b[0msol\u001b[0m \u001b[1;33m=\u001b[0m \u001b[0mOptimize\u001b[0m\u001b[1;33m(\u001b[0m\u001b[0mH\u001b[0m\u001b[1;33m,\u001b[0m\u001b[0mnoise\u001b[0m \u001b[1;33m=\u001b[0m \u001b[0mn\u001b[0m\u001b[1;33m)\u001b[0m\u001b[1;33m\u001b[0m\u001b[1;33m\u001b[0m\u001b[0m\n\u001b[0m\u001b[0;32m     21\u001b[0m \u001b[1;33m\u001b[0m\u001b[0m\n\u001b[0;32m     22\u001b[0m \u001b[1;33m\u001b[0m\u001b[0m\n",
      "\u001b[1;31mNameError\u001b[0m: name 'Optimize' is not defined"
     ]
    }
   ],
   "source": [
    "#Calculating manually the scaling with the folding of the CNOT gates\n",
    "\n",
    "\n",
    "#Define the noises to be used \n",
    "noise = [False,\n",
    "         'ibmq_vigo',\n",
    "         'ibmq_16_melbourne',\n",
    "         'ibmq_santiago',\n",
    "         'ibmqx2'\n",
    "         ]\n",
    "r = 6 #Total scaling parameter to use\n",
    "\n",
    "#Array with list for scaled values for each of the noises in respective order\n",
    "Noise_Scaling = [] \n",
    "\n",
    "\n",
    "#Obtain a solution with the standard circuit\n",
    "for n in noise: \n",
    "    Noise_extrapolation = []\n",
    "    sol = Optimize(H,noise = n)\n",
    " \n",
    "\n",
    "    #Extract values of theta and expectation value\n",
    "    theta_optimal = sol.x\n",
    "    Noise_extrapolation.append(sol.fun)\n",
    "\n",
    "    # Finding expectation values for r = 3 to 5 with previous theta\n",
    "    for r in range(2,r+1):\n",
    "        Noise_extrapolation.append(Expectation_Hamiltonian(theta_optimal,H,noise = n, r = r))\n",
    "        \n",
    "    Noise_Scaling.append(Noise_extrapolation)\n",
    "\n",
    "\n"
   ]
  },
  {
   "cell_type": "code",
   "execution_count": null,
   "metadata": {
    "scrolled": true
   },
   "outputs": [],
   "source": [
    "zne_simulation = Noise_Scaling[0]\n",
    "zne_vigo = Noise_Scaling[1]\n",
    "zne_melbourne = Noise_Scaling[2]\n",
    "zne_santiago = Noise_Scaling[3]\n",
    "zne_ibmqx2 = Noise_Scaling[4]\n",
    "\n",
    "zne_noextrap  = (zne_simulation,zne_vigo,zne_melbourne,zne_santiago,zne_ibmqx2)\n",
    "\n"
   ]
  },
  {
   "cell_type": "code",
   "execution_count": 44,
   "metadata": {},
   "outputs": [
    {
     "data": {
      "image/png": "[encoded data removed]",
      "text/plain": [
       "<Figure size 432x288 with 1 Axes>"
      ]
     },
     "metadata": {
      "needs_background": "light"
     },
     "output_type": "display_data"
    }
   ],
   "source": [
    "\n",
    "#Graph results without extrapolation \n",
    "labels = [1,2,3,4,5,6]\n",
    "\n",
    "plt.figure()\n",
    "plt.plot(0,eigenH[0],'ko')\n",
    "plt.plot(labels,zne_simulation,'ro')\n",
    "plt.plot(labels,zne_vigo,'bo')\n",
    "plt.plot(labels,zne_melbourne,'go')\n",
    "plt.plot(labels,zne_santiago,'co')\n",
    "plt.plot(labels,zne_ibmqx2,'yo')\n",
    "plt.gca().legend(('Exact','Simulation','Vigo','Melbourne','Santiago','Ibmqx2'))\n",
    "\n",
    "_ =plt.savefig('zne without extrapolation.png')\n",
    "plt.grid()\n",
    "\n",
    "np.savetxt(\"zne_noextrap.csv\",zne_noextrap, delimiter=\",\")"
   ]
  },
  {
   "cell_type": "code",
   "execution_count": 72,
   "metadata": {},
   "outputs": [
    {
     "data": {
      "image/png": "[encoded data removed]",
      "text/plain": [
       "<IPython.core.display.Image object>"
      ]
     },
     "metadata": {},
     "output_type": "display_data"
    }
   ],
   "source": [
    "display(Image('zne without extrapolation.png'))"
   ]
  },
  {
   "cell_type": "markdown",
   "metadata": {},
   "source": [
    "To use mitiq with just a few lines of code, we simply need to define a function which inputs a circuit and outputs the expectation value to mitigate. This function will:\n",
    "\n",
    "Add measurement(s) to the circuit.\n",
    "\n",
    "Run the circuit.\n",
    "\n",
    "Convert from raw measurement statistics (or a different output format) to an expectation value.\n",
    "\n",
    "We define this function in the following code block. Because we are using IBMQ backends, we first load our account."
   ]
  },
  {
   "cell_type": "markdown",
   "metadata": {},
   "source": [
    "## Running with Noise\n",
    "We can see that the result of the VQE with a noiseless qasm simulator, we can try to add noise by running a simulation with the noise characteristics of a real quantum computer "
   ]
  },
  {
   "cell_type": "code",
   "execution_count": 37,
   "metadata": {},
   "outputs": [],
   "source": [
    "results_noise = [-2.511639972107E+00,\n",
    "-2.458433722856E+00,\n",
    "-2.165740952187E+00,\n",
    "-2.219961298297E+00,\n",
    "-2.274047099602E+00,\n",
    "-2.084818570955E+00,\n",
    "]\n",
    "\n",
    "error_noise = []\n",
    "for i in range(len(results_noise)):\n",
    "    error_noise.append(abs(results_noise[i]-results_noise[0])*100/abs(results_noise[0]))"
   ]
  },
  {
   "cell_type": "code",
   "execution_count": 40,
   "metadata": {
    "scrolled": true
   },
   "outputs": [
    {
     "data": {
      "text/plain": [
       "Text(0, 0.5, 'Error Percentage')"
      ]
     },
     "execution_count": 40,
     "metadata": {},
     "output_type": "execute_result"
    },
    {
     "data": {
      "image/png": "[encoded data removed]",
      "text/plain": [
       "<Figure size 432x288 with 2 Axes>"
      ]
     },
     "metadata": {
      "needs_background": "light"
     },
     "output_type": "display_data"
    }
   ],
   "source": [
    "labels = ['exact','simulator','ibqm_vigo','ibmq_16_melbourne','ibmq_santiago','ibmqx2']\n",
    "\n",
    "plt.figure(1)\n",
    "\n",
    "plt.subplot(2,1,1)\n",
    "plt.plot(labels,results_noise,'ro')\n",
    "plt.gcf().subplots_adjust(right = 1.5,top = 1.5,bottom = 0)\n",
    "plt.grid()\n",
    "plt.ylim([-2.6,-2])\n",
    "plt.ylabel('Ground energy value')\n",
    "\n",
    "\n",
    "plt.subplot(2,1,2)\n",
    "plt.bar(labels,error_noise)\n",
    "plt.ylabel('Error Percentage')\n"
   ]
  },
  {
   "cell_type": "markdown",
   "metadata": {},
   "source": [
    "## Using the mitiq platform "
   ]
  },
  {
   "cell_type": "markdown",
   "metadata": {},
   "source": [
    "Let's try to do some folding test with the trial circuit "
   ]
  },
  {
   "cell_type": "code",
   "execution_count": 22,
   "metadata": {
    "scrolled": true
   },
   "outputs": [
    {
     "data": {
      "image/png": "[encoded data removed]",
      "text/plain": [
       "<Figure size 923.232x144.48 with 1 Axes>"
      ]
     },
     "execution_count": 22,
     "metadata": {},
     "output_type": "execute_result"
    }
   ],
   "source": [
    "qc = State_Preparation([1,2,3])\n",
    "from mitiq.zne.scaling.folding import fold_gates_at_random\n",
    "\n",
    "#folded = fold_gates_from_left(qc, scale_factor=2)\n",
    "#folded = fold_gates_from_right(qc, scale_factor=4,fidelities={\"single\": 1.0,\"CNOT\": 0.99})\n",
    "folded = fold_gates_at_random(qc_IX, scale_factor=5,fidelities={\"single\": 1.0,\"CNOT\": 0.99})\n",
    "#folded = fold_global(qc, scale_factor=3,fidelities={\"single\": 1.0,\"CNOT\": 0.99})\n",
    "\n",
    "folded = scale_all_cnot(qc,3)\n",
    "\n",
    "folded.draw('mpl')"
   ]
  },
  {
   "cell_type": "code",
   "execution_count": 19,
   "metadata": {},
   "outputs": [],
   "source": [
    "import cirq\n",
    "from mitiq.conversions import converter\n",
    "from mitiq.zne.scaling.folding import _fold_gate_at_index_in_moment, deepcopy, _pop_measurements, _cirq_gates_to_string_keys, _append_measurements, squash_moments\n",
    "\n",
    "@converter\n",
    "def scale_all_cnot(circuit: cirq.Circuit, scale_factor: float) -> cirq.Circuit:\n",
    "    # Insert custom folding method here\n",
    "    \n",
    "    folded = deepcopy(circuit)\n",
    "    measurements = _pop_measurements(folded)\n",
    "    \n",
    "    moment_shift = 0\n",
    "    for (moment_index, moment) in enumerate(circuit):\n",
    "        for gate_index in range(len(moment)):\n",
    "            op = circuit[moment_index].operations[gate_index]\n",
    "            if op.gate == cirq.ops.CNOT:\n",
    "                for _ in range(int(scale_factor)-1):\n",
    "                    _fold_gate_at_index_in_moment(\n",
    "                        folded, moment_index + moment_shift, gate_index\n",
    "                    )\n",
    "                    moment_shift += 2\n",
    "    _append_measurements(folded, measurements)\n",
    "    folded = squash_moments(folded)\n",
    "    \n",
    "    return folded\n",
    "\n",
    "folded = scale_all_cnot(qc,1)\n"
   ]
  },
  {
   "cell_type": "markdown",
   "metadata": {},
   "source": [
    "In order to use the mitiq tools we require to have a function that depends only on a quantum circuit. For this reason the expectation value hamiltonian functions we previously defined is not very useful, given that it creates the circuit from the theta parameters. So we redefine the function, with the only requirement of having to define the state preparation beforehand.  "
   ]
  },
  {
   "cell_type": "code",
   "execution_count": 33,
   "metadata": {
    "scrolled": true
   },
   "outputs": [
    {
     "data": {
      "text/plain": [
       "array([-0.99634861, -1.00276807, -1.00805695, -0.98193931, -0.9911364 ,\n",
       "       -0.98750552])"
      ]
     },
     "execution_count": 33,
     "metadata": {},
     "output_type": "execute_result"
    }
   ],
   "source": [
    "from functools import partial\n",
    "from mitiq.zne.inference import *\n",
    "\n",
    "qc = State_Preparation([2.39581172, 5.94579978, 0.29905988],r=1)\n",
    "\n",
    "def Expectation_Hamiltonian_Mitiq(qc,Hamiltonian = H,noise = False, r = 1,shots=8192,backend = 'qasm_simulator'):\n",
    "    #Find the Pauli decomposition\n",
    "    c = Decomposition_H(H)\n",
    "    exp_key = c.copy() #copy the dictionary \n",
    "    \n",
    "\n",
    "    H_exp = 0 #Expectation value initiation\n",
    "    \n",
    "    for keys in c.keys():\n",
    "        if c[keys] == 0: #If contribution is zero then skip step\n",
    "            continue\n",
    "        \n",
    "        #Expectation value for Pauli matrices\n",
    "        qc_key = Circuit_Measurement(qc,keys)\n",
    "        \n",
    "        #Run for expectation value\n",
    "        exp_key[keys] = Expectation_Measurement(qc_key,keys,shots = shots,backend = backend,noise = noise)\n",
    "        H_exp += c[keys]*exp_key[keys]\n",
    "    return H_exp\n",
    "\n",
    "\n",
    "executor = partial(\n",
    "    Expectation_Hamiltonian_Mitiq,\n",
    "    shots=8192\n",
    ")\n",
    "\n",
    "linear_fac = LinearFactory([1,2,3,4,5,6])\n",
    "\n",
    "mitigated = mitiq.execute_with_zne(qc,executor, factory = linear_fac,scale_noise=scale_all_cnot)\n",
    "linear_fac.get_expectation_values()\n"
   ]
  },
  {
   "cell_type": "markdown",
   "metadata": {},
   "source": [
    "We now use the Mitiq package to get the desired results without needing to define the optimizer function or running for several points"
   ]
  },
  {
   "cell_type": "code",
   "execution_count": 58,
   "metadata": {},
   "outputs": [
    {
     "name": "stderr",
     "output_type": "stream",
     "text": [
      "C:\\Users\\javie\\anaconda3\\envs\\qiskit_env\\lib\\site-packages\\scipy\\optimize\\_minimize.py:527: RuntimeWarning: Method COBYLA cannot handle bounds.\n",
      "  warn('Method %s cannot handle bounds.' % method,\n",
      "C:\\Users\\javie\\anaconda3\\envs\\qiskit_env\\lib\\site-packages\\scipy\\optimize\\_minimize.py:527: RuntimeWarning: Method COBYLA cannot handle bounds.\n",
      "  warn('Method %s cannot handle bounds.' % method,\n",
      "C:\\Users\\javie\\anaconda3\\envs\\qiskit_env\\lib\\site-packages\\scipy\\optimize\\_minimize.py:527: RuntimeWarning: Method COBYLA cannot handle bounds.\n",
      "  warn('Method %s cannot handle bounds.' % method,\n",
      "C:\\Users\\javie\\anaconda3\\envs\\qiskit_env\\lib\\site-packages\\scipy\\optimize\\_minimize.py:527: RuntimeWarning: Method COBYLA cannot handle bounds.\n",
      "  warn('Method %s cannot handle bounds.' % method,\n",
      "C:\\Users\\javie\\anaconda3\\envs\\qiskit_env\\lib\\site-packages\\scipy\\optimize\\_minimize.py:527: RuntimeWarning: Method COBYLA cannot handle bounds.\n",
      "  warn('Method %s cannot handle bounds.' % method,\n"
     ]
    }
   ],
   "source": [
    "# First get the optimal theta for each of the machines \n",
    "\n",
    "noise = [False,\n",
    "         'ibmq_vigo',\n",
    "         'ibmq_16_melbourne',\n",
    "         'ibmq_santiago',\n",
    "         'ibmqx2'\n",
    "         ]\n",
    "\n",
    "shots = 8192\n",
    "\n",
    "\n",
    "Noise_Scaling_mitiq = [] \n",
    "\n",
    "#Obtain a solution with the standard circuit\n",
    "for n in noise: \n",
    "    \n",
    "    #Define the executor to work with this particular type of noise \n",
    "    executor = partial(\n",
    "        Expectation_Hamiltonian_Mitiq,\n",
    "        shots = shots,\n",
    "        noise = n,\n",
    "                                                                            )\n",
    "    \n",
    "    #Define factory (Statistical method)\n",
    "    fac = LinearFactory([1,2,3,4,5,6])\n",
    "    \n",
    "    \n",
    "    #List with results for specific noise\n",
    "    Noise_extrapolation_mitiq = []\n",
    "    \n",
    "    #Obtain solutions for r = 1\n",
    "    sol = Optimize(H,noise = n)\n",
    " \n",
    "\n",
    "    #Extract values of theta and expectation value\n",
    "    theta_optimal = sol.x\n",
    "    \n",
    "\n",
    "    #Prepare the circuit to be used by mitiq \n",
    "    qc = State_Preparation(theta_optimal)\n",
    "\n",
    "    #Run mitiq optimizer\n",
    "    #zne = mitiq.execute_with_zne(qc,executor, factory = fac,scale_noise=scale_all_cnot) #Executor with cnot gates\n",
    "    zne = mitiq.execute_with_zne(qc,executor, factory = fac)\n",
    "    \n",
    "    #Save results for respective noise machine\n",
    "    Noise_extrapolation_mitiq.extend(list(fac.get_expectation_values())) #then saves the calculated expectation values\n",
    "    Noise_extrapolation_mitiq.insert(0,zne) #saves the zne result    \n",
    "\n",
    "    Noise_Scaling_mitiq.append(Noise_extrapolation_mitiq) #add to the list of list with each noise\n",
    "\n"
   ]
  },
  {
   "cell_type": "markdown",
   "metadata": {},
   "source": [
    "### Graph of results "
   ]
  },
  {
   "cell_type": "code",
   "execution_count": 59,
   "metadata": {},
   "outputs": [
    {
     "data": {
      "image/png": "[encoded data removed]",
      "text/plain": [
       "<Figure size 432x288 with 1 Axes>"
      ]
     },
     "metadata": {
      "needs_background": "light"
     },
     "output_type": "display_data"
    }
   ],
   "source": [
    "#Extract the results\n",
    "zne_simulation_mitiq = Noise_Scaling_mitiq[0]\n",
    "zne_vigo_mitiq = Noise_Scaling_mitiq[1]\n",
    "zne_melbourne_mitiq = Noise_Scaling_mitiq[2]\n",
    "zne_santiago_mitiq = Noise_Scaling_mitiq[3]\n",
    "zne_ibmqx2_mitiq = Noise_Scaling_mitiq[4]\n",
    "\n",
    "#Results to be stored in a .cvs file \n",
    "zne_noextrap  = (zne_simulation_mitiq,zne_vigo_mitiq,zne_melbourne_mitiq,zne_santiago_mitiq,zne_ibmqx2_mitiq)\n",
    "\n",
    "\n",
    "#Graph results without extrapolation \n",
    "labels = [0,1,2,3,4,5,6]\n",
    "\n",
    "plt.figure()\n",
    "plt.plot(0,eigenH[0],'ko')\n",
    "plt.plot(labels,zne_simulation_mitiq,'ro')\n",
    "plt.plot(labels,zne_vigo_mitiq,'bo')\n",
    "plt.plot(labels,zne_melbourne_mitiq,'go')\n",
    "plt.plot(labels,zne_santiago_mitiq,'co')\n",
    "plt.plot(labels,zne_ibmqx2_mitiq,'yo')\n",
    "plt.gca().legend(('Exact','Simulation','Vigo','Melbourne','Santiago','Ibmqx2'))\n",
    "\n",
    "_ =plt.savefig('ZNE_Linear_Mitiq_Random.png')\n",
    "plt.grid()\n",
    "\n",
    "np.savetxt(\"ZNE_Linear_Mitiq_Random.csv\",zne_noextrap, delimiter=\",\")\n"
   ]
  },
  {
   "cell_type": "code",
   "execution_count": 57,
   "metadata": {},
   "outputs": [
    {
     "name": "stdout",
     "output_type": "stream",
     "text": [
      "-1.0116399721069198 [-1.012007190902425, -0.9997346950968863, -1.0158616101659086, -1.016414683790339, -0.9888321938651021, -1.0048262795341962, -0.9946217457103823]\n"
     ]
    }
   ],
   "source": [
    "eigenH[0]\n",
    "print(eigenH[0],zne_simulation_mitiq)"
   ]
  },
  {
   "cell_type": "code",
   "execution_count": 60,
   "metadata": {},
   "outputs": [
    {
     "data": {
      "image/png": "[encoded data removed]",
      "text/plain": [
       "<IPython.core.display.Image object>"
      ]
     },
     "metadata": {},
     "output_type": "display_data"
    }
   ],
   "source": [
    "display(Image('ZNE_Linear_Mitiq_CNOT.png'))"
   ]
  },
  {
   "cell_type": "code",
   "execution_count": null,
   "metadata": {},
   "outputs": [],
   "source": []
  }
 ],
 "metadata": {
  "kernelspec": {
   "display_name": "Python 3",
   "language": "python",
   "name": "python3"
  },
  "language_info": {
   "codemirror_mode": {
    "name": "ipython",
    "version": 3
   },
   "file_extension": ".py",
   "mimetype": "text/x-python",
   "name": "python",
   "nbconvert_exporter": "python",
   "pygments_lexer": "ipython3",
   "version": "3.8.5"
  }
 },
 "nbformat": 4,
 "nbformat_minor": 4
}
