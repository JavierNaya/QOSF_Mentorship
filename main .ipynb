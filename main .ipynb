{
 "cells": [
  {
   "cell_type": "code",
   "execution_count": 109,
   "metadata": {},
   "outputs": [],
   "source": [
    "# Importing required packages \n",
    "from qiskit import QuantumCircuit, Aer\n",
    "from qiskit.quantum_info import Operator, Statevector, state_fidelity\n",
    "from qiskit.visualization import plot_state_qsphere\n",
    "import numpy as np\n"
   ]
  },
  {
   "cell_type": "markdown",
   "metadata": {},
   "source": [
    "# Introduction \n",
    "\n",
    "Quantum computers provide a natural platform to perform simulations for the evolution of systems\n",
    "Proposals of simulations of quantum field theories and experimental implementation (Zoller etc.) \n",
    "Klco et al. reducing the physical space and studying the discretized Schwinger model, proposal to study the noise restrictions they faced with the help of the mitiq package"
   ]
  },
  {
   "cell_type": "markdown",
   "metadata": {},
   "source": [
    "## VQE of the ground state energy \n",
    "\n",
    "Through the use of physical symmetries within the system it is possible to restrict the matrix to the form \n",
    "\n",
    "\\begin{equation}\n",
    "H_{k=0,+}^{\\lambda^2 = 3} =\n",
    "\\begin{pmatrix}\n",
    "-2\\mu & 2x & 0 & 0\\\\\n",
    "2x & 1 & \\sqrt{2}x & 0\\\\\n",
    "0 & \\sqrt{2}x & 2 + 2\\mu & \\sqrt{2}x \\\\\n",
    "0 & 0 & \\sqrt{2}x & 3 \n",
    "\\end{pmatrix}\n",
    "\\end{equation}\n",
    "\n",
    "This 4x4 matrix can then be expressed in term of the polywords\n",
    "\n",
    "\\begin{equation}\n",
    "\\cal{O}_{i,j} = \\frac{1}{4}\\sigma_{i} \\otimes \\sigma_{j} \n",
    "\\end{equation}\n",
    "with $i,j = 0,1,2,3$ representing the Pauli matrices. Such that the hamiltonian is written as\n",
    "\\begin{equation}\n",
    "H = \\sum_{i,j} c_{i,j}\\cal{O}_{i,j}\n",
    "\\end{equation} \n",
    "with each coefficient calculated as inner product of the matrices with the Hamiltonian (equivalent to finding the coefficients of real vector through the application of dot products) \n",
    "\n",
    "\\begin{equation}\n",
    "c_{i,j} = Tr( \\cal{O}^{\\dagger}H) = Tr( \\cal{O}H) \n",
    "\\end{equation}\n",
    "\n",
    "which the following function will implement "
   ]
  },
  {
   "cell_type": "code",
   "execution_count": 95,
   "metadata": {},
   "outputs": [
    {
     "name": "stdout",
     "output_type": "stream",
     "text": [
      "[[-0.2         1.2         0.          0.        ]\n",
      " [ 1.2         1.          0.84852814  0.        ]\n",
      " [ 0.          0.84852814  2.2         0.84852814]\n",
      " [ 0.          0.          0.84852814  3.        ]]\n",
      "[[-1.7         1.2         0.          0.        ]\n",
      " [ 1.2        -0.5         0.84852814  0.        ]\n",
      " [ 0.          0.84852814  0.7         0.84852814]\n",
      " [ 0.          0.          0.84852814  1.5       ]]\n",
      "[-2.51163997 -0.39739922  0.76804891  2.14099028]\n"
     ]
    },
    {
     "data": {
      "text/plain": [
       "' They are different! '"
      ]
     },
     "execution_count": 95,
     "metadata": {},
     "output_type": "execute_result"
    }
   ],
   "source": [
    "#Function to prepare the hamiltonian alognside the traceless one \n",
    "def Hamiltonian(mu,x):\n",
    "    H = np.array([[-2*mu, 2*x, 0, 0],\\\n",
    "                  [2*x, 1, np.sqrt(2)*x, 0],\\\n",
    "                  [0, np.sqrt(2)*x, 2+2*mu, np.sqrt(2)*x],\\\n",
    "                  [0, 0, np.sqrt(2)*x, 3]])\n",
    "    HT = H - (3/2)*np.eye(4)\n",
    "    \n",
    "    return H,HT\n",
    "\n",
    "#Values used in the paper minimization\n",
    "[H,HT] = Hamiltonian(0.1,0.6)\n",
    "print(H)\n",
    "print(HT)\n",
    "\n",
    "\n",
    "#Find the eigenvalues of the matrix to see if they \n",
    "#are the same \n",
    "eigenHT,_ = np.linalg.eig(HT)\n",
    "print(eigenHT)\n"
   ]
  },
  {
   "cell_type": "code",
   "execution_count": 106,
   "metadata": {},
   "outputs": [
    {
     "data": {
      "text/plain": [
       "{'II': 0.0,\n",
       " 'IX': 1.0242640687119284,\n",
       " 'IY': 0j,\n",
       " 'IZ': -0.49999999999999994,\n",
       " 'XI': 0.0,\n",
       " 'XX': 0.4242640687119285,\n",
       " 'XY': 0j,\n",
       " 'XZ': 0.0,\n",
       " 'YI': 0j,\n",
       " 'YX': 0j,\n",
       " 'YY': (0.4242640687119285+0j),\n",
       " 'YZ': 0j,\n",
       " 'ZI': -1.1,\n",
       " 'ZX': 0.17573593128807144,\n",
       " 'ZY': 0j,\n",
       " 'ZZ': -0.10000000000000003}"
      ]
     },
     "execution_count": 106,
     "metadata": {},
     "output_type": "execute_result"
    }
   ],
   "source": [
    "def decomposition_H(H):\n",
    "\n",
    "    #Definition of the pauli matrices \n",
    "    sigma_0 = np.eye(2)\n",
    "    sigma_X = np.array([[0,1],[1,0]])\n",
    "    sigma_Y = np.array([[0,-1j],[1j,0]])\n",
    "    sigma_Z = np.array([[1,0],[0,-1]])\n",
    "    Pauli = [sigma_0,sigma_X,sigma_Y,sigma_Z]\n",
    "    Pauli_name = ['I','X','Y','Z']\n",
    "    \n",
    "    #Creaiton of the pauli_words\n",
    "    ii = 0 \n",
    "    Poly = []\n",
    "    Poly_name = []\n",
    "    for i in Pauli:\n",
    "        jj = 0\n",
    "        for j in Pauli:\n",
    "            Poly.append(np.kron(i,j))\n",
    "            Poly_name.append(Pauli_name[ii] + Pauli_name[jj])\n",
    "            jj += 1\n",
    "        ii += 1\n",
    "\n",
    "    \n",
    "    #Doing the partial trace for the coefficinets \n",
    "    c = {}\n",
    "    for i in range(len(Poly)):\n",
    "        c[Poly_name[i]] = np.trace(np.matmul(Poly[i],H))/4\n",
    "        \n",
    "    return c\n",
    "\n",
    "decomposition_H(HT)"
   ]
  },
  {
   "cell_type": "markdown",
   "metadata": {},
   "source": [
    "Supposing we already have the decomposition then we can then express the expectation value of the energy of the hamiltonian as \n",
    "\n",
    "\\begin{equation} \n",
    "    \\left< H \\right>_{\\theta} = \\sum_{i}c_{i} \\big< \\psi(\\vec{\\theta}) \\big| \\cal{O}_{i} \\big| \\psi(\\vec{\\theta})\\big>\n",
    "\\end{equation}\n",
    "\n",
    "where the initial state $\\big| \\psi(\\vec{\\theta})\\big> $ is determined to an specific anzats created by the circuit in E10  \n",
    "\n",
    "To properly implement in qiskit we use the RX,RY and RZ defined as \n",
    " \n",
    "\\begin{align*} \n",
    "RX(\\theta) &= e^{-i\\theta\\frac{\\sigma_{X}}{2}} \\\\ \n",
    "RY(\\theta) &= e^{-i\\theta\\frac{\\sigma_{Y}}{2}} \\\\\n",
    "RZ(\\theta) &= e^{-i\\theta\\frac{\\sigma_{Z}}{2}} \\\\ \n",
    "\\end{align*}\n",
    "\n",
    "The created circuit is such that \n",
    "\n",
    "\\begin{equation}\n",
    "    \\big| \\psi(\\vec{\\theta})\\big> = U( \\vec{\\theta} ) \\big| \\vec{0} \\big>\n",
    "\\end{equation}\n",
    "\n",
    "In order to find the expected value it is usefu to consider a general qubit of the form \n",
    "\n",
    "\\begin{equation}\n",
    "    \\big| \\psi \\big> = p_{00}\\big| 00 \\big> + p_{01}\\big| 01 \\big> + p_{10}\\big| 10 \\big> + p_{11}\\big| 11 \\big> \n",
    "\\end{equation}\n",
    "\n",
    "and consider the result of the expetation value of this state with a $\\sigma_{Z} \\otimes \\sigma_{Z}$\n",
    "\n",
    "\\begin{split}\n",
    "   \\big< \\psi \\big| \\sigma_{Z} \\otimes \\sigma_{Z} \\big| \\psi \\big> &= \\big< \\psi \\big| \\sigma_{Z} \\otimes \\sigma_{Z} \\Big(  p_{00}\\big| 00 \\big> + p_{01}\\big| 01 \\big> + p_{10}\\big| 10 \\big> + p_{11}\\big| 11 \\big> \\Big) \\\\\n",
    "   &=  \\big< \\psi \\big| \\Big(  p_{00}\\big| 00 \\big> - p_{01}\\big| 01 \\big> - p_{10}\\big| 10 \\big> + p_{11}\\big| 11 \\big>   \\Big) \\\\\n",
    "   &=  |p_{00}|^2 + |p_{11}|^2 - \\big( |p_{10}|^2 + |p_{01}|^2  \\big)\n",
    "\\end{split}\n",
    "\n",
    "so in order to measure the expectation value from the results of an experiment, we just need to sum the counts with the formula above. For the case when the other pauli matrices appear there only needs to be a change in the basis of the measurements as \n",
    "\n",
    "\\begin{align*}\n",
    "\\sigma_{X} &= (H)^{\\dagger} \\sigma_{Z} H \\\\\n",
    "\\sigma_{Y} &= (HS^{\\dagger})^{\\dagger} \\sigma_{Z} HS^{\\dagger}\n",
    "\\end{align*}\n",
    "\n"
   ]
  },
  {
   "cell_type": "code",
   "execution_count": 121,
   "metadata": {},
   "outputs": [
    {
     "data": {
      "image/png": "[encoded data removed]",
      "text/plain": [
       "<Figure size 441.632x204.68 with 1 Axes>"
      ]
     },
     "execution_count": 121,
     "metadata": {},
     "output_type": "execute_result"
    }
   ],
   "source": [
    "def State_Preparation(theta):\n",
    "\n",
    "    qc = QuantumCircuit(2,2)\n",
    "    \n",
    "    qc.ry(theta[1],0)\n",
    "    qc.ry(theta[0],1)\n",
    "    qc.cnot(0,1)\n",
    "    qc.ry(theta[0],1)\n",
    "    qc.cnot(0,1)\n",
    "    qc.ry(theta[2],1)\n",
    "    \n",
    "    return qc\n",
    "\n",
    "#Example circuit \n",
    "qc = State_Preparation([np.pi/4,np.pi/2,np.pi])\n",
    "qc.draw('mpl')\n",
    "\n",
    "\n",
    "#Question: why is this the anzats in the paper?"
   ]
  },
  {
   "cell_type": "code",
   "execution_count": 112,
   "metadata": {},
   "outputs": [
    {
     "data": {
      "text/plain": [
       "3.141592653589793"
      ]
     },
     "execution_count": 112,
     "metadata": {},
     "output_type": "execute_result"
    }
   ],
   "source": [
    "def Poly_Circuit(Poly_name)\n",
    "\n",
    "    qc = QuantumCircuit(2,2)\n",
    "    \n",
    "    if Poly_name[0] == 'X'\n",
    "    qc.X"
   ]
  },
  {
   "cell_type": "code",
   "execution_count": 120,
   "metadata": {},
   "outputs": [
    {
     "data": {
      "text/plain": [
       "True"
      ]
     },
     "execution_count": 120,
     "metadata": {},
     "output_type": "execute_result"
    }
   ],
   "source": [
    "trial = 'XZ'\n",
    "trial[1] == 'Z'"
   ]
  }
 ],
 "metadata": {
  "kernelspec": {
   "display_name": "Python 3",
   "language": "python",
   "name": "python3"
  },
  "language_info": {
   "codemirror_mode": {
    "name": "ipython",
    "version": 3
   },
   "file_extension": ".py",
   "mimetype": "text/x-python",
   "name": "python",
   "nbconvert_exporter": "python",
   "pygments_lexer": "ipython3",
   "version": "3.8.5"
  }
 },
 "nbformat": 4,
 "nbformat_minor": 4
}
