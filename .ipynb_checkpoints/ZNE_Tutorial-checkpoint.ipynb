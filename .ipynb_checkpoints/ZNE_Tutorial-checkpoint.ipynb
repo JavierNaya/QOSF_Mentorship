{
 "cells": [
  {
   "cell_type": "code",
   "execution_count": 197,
   "metadata": {},
   "outputs": [],
   "source": [
    "# Importing required packages \n",
    "from qiskit import QuantumCircuit, Aer, execute\n",
    "from qiskit.quantum_info import Operator, Statevector, state_fidelity\n",
    "from qiskit.visualization import plot_state_qsphere, plot_histogram, plot_state_city\n",
    "from qiskit.aqua.components.optimizers import COBYLA\n",
    "from qiskit.aqua.algorithms import VQE\n",
    "import numpy as np\n",
    "import random, math\n",
    "from scipy import optimize as opt\n"
   ]
  },
  {
   "cell_type": "markdown",
   "metadata": {},
   "source": [
    "# Introduction \n",
    "\n",
    "Quantum computers provide a natural platform to perform simulations for the evolution of systems\n",
    "Proposals of simulations of quantum field theories and experimental implementation (Zoller etc.) \n",
    "Klco et al. reducing the physical space and studying the discretized Schwinger model, proposal to study the noise restrictions they faced with the help of the mitiq package"
   ]
  },
  {
   "cell_type": "markdown",
   "metadata": {},
   "source": [
    "## VQE of the ground state energy \n",
    "\n",
    "Through the use of physical symmetries within the system it is possible to restrict the matrix to the form \n",
    "\n",
    "\\begin{equation}\n",
    "H_{k=0,+}^{\\lambda^2 = 3} =\n",
    "\\begin{pmatrix}\n",
    "-2\\mu & 2x & 0 & 0\\\\\n",
    "2x & 1 & \\sqrt{2}x & 0\\\\\n",
    "0 & \\sqrt{2}x & 2 + 2\\mu & \\sqrt{2}x \\\\\n",
    "0 & 0 & \\sqrt{2}x & 3 \n",
    "\\end{pmatrix}\n",
    "\\end{equation}\n",
    "\n",
    "This 4x4 matrix can then be expressed in term of the polywords\n",
    "\n",
    "\\begin{equation}\n",
    "\\cal{O}_{i,j} = \\frac{1}{4}\\sigma_{i} \\otimes \\sigma_{j} \n",
    "\\end{equation}\n",
    "with $i,j = 0,1,2,3$ representing the Pauli matrices. Such that the hamiltonian is written as\n",
    "\\begin{equation}\n",
    "H = \\sum_{i,j} c_{i,j}\\cal{O}_{i,j}\n",
    "\\end{equation} \n",
    "with each coefficient calculated as inner product of the matrices with the Hamiltonian (equivalent to finding the coefficients of real vector through the application of dot products) \n",
    "\n",
    "\\begin{equation}\n",
    "c_{i,j} = Tr( \\cal{O}^{\\dagger}H) = Tr( \\cal{O}H) \n",
    "\\end{equation}\n",
    "\n",
    "which the following function will implement "
   ]
  },
  {
   "cell_type": "code",
   "execution_count": 10,
   "metadata": {},
   "outputs": [
    {
     "name": "stdout",
     "output_type": "stream",
     "text": [
      "[[-0.2         1.2         0.          0.        ]\n",
      " [ 1.2         1.          0.84852814  0.        ]\n",
      " [ 0.          0.84852814  2.2         0.84852814]\n",
      " [ 0.          0.          0.84852814  3.        ]]\n",
      "[[-1.7         1.2         0.          0.        ]\n",
      " [ 1.2        -0.5         0.84852814  0.        ]\n",
      " [ 0.          0.84852814  0.7         0.84852814]\n",
      " [ 0.          0.          0.84852814  1.5       ]]\n",
      "[-2.51163997 -0.39739922  0.76804891  2.14099028]\n"
     ]
    }
   ],
   "source": [
    "#Function to prepare the hamiltonian alognside the traceless one \n",
    "def Hamiltonian(mu,x):\n",
    "    H = np.array([[-2*mu, 2*x, 0, 0],\\\n",
    "                  [2*x, 1, np.sqrt(2)*x, 0],\\\n",
    "                  [0, np.sqrt(2)*x, 2+2*mu, np.sqrt(2)*x],\\\n",
    "                  [0, 0, np.sqrt(2)*x, 3]])\n",
    "    HT = H - (3/2)*np.eye(4)\n",
    "    \n",
    "    return H,HT\n",
    "\n",
    "#Values used in the paper minimization\n",
    "[H,HT] = Hamiltonian(0.1,0.6)\n",
    "print(H)\n",
    "print(HT)\n",
    "\n",
    "\n",
    "#Find the eigenvalues of the matrix to see if they \n",
    "#are the same \n",
    "eigenHT,_ = np.linalg.eig(HT)\n",
    "print(eigenHT)\n"
   ]
  },
  {
   "cell_type": "code",
   "execution_count": 199,
   "metadata": {},
   "outputs": [
    {
     "data": {
      "text/plain": [
       "{'II': 0.0,\n",
       " 'IX': 1.0242640687119284,\n",
       " 'IY': 0j,\n",
       " 'IZ': -0.49999999999999994,\n",
       " 'XI': 0.0,\n",
       " 'XX': 0.4242640687119285,\n",
       " 'XY': 0j,\n",
       " 'XZ': 0.0,\n",
       " 'YI': 0j,\n",
       " 'YX': 0j,\n",
       " 'YY': (0.4242640687119285+0j),\n",
       " 'YZ': 0j,\n",
       " 'ZI': -1.1,\n",
       " 'ZX': 0.17573593128807144,\n",
       " 'ZY': 0j,\n",
       " 'ZZ': -0.10000000000000003}"
      ]
     },
     "execution_count": 199,
     "metadata": {},
     "output_type": "execute_result"
    }
   ],
   "source": [
    "def decomposition_H(H):\n",
    "\n",
    "    #Definition of the pauli matrices \n",
    "    sigma_0 = np.eye(2)\n",
    "    sigma_X = np.array([[0,1],[1,0]])\n",
    "    sigma_Y = np.array([[0,-1j],[1j,0]])\n",
    "    sigma_Z = np.array([[1,0],[0,-1]])\n",
    "    Pauli = [sigma_0,sigma_X,sigma_Y,sigma_Z]\n",
    "    Pauli_name = ['I','X','Y','Z']\n",
    "    \n",
    "    #Creaiton of the pauli_words\n",
    "    ii = 0 \n",
    "    Poly = []\n",
    "    Poly_name = []\n",
    "    for i in Pauli:\n",
    "        jj = 0\n",
    "        for j in Pauli:\n",
    "            Poly.append(np.kron(i,j))\n",
    "            Poly_name.append(Pauli_name[ii] + Pauli_name[jj])\n",
    "            jj += 1\n",
    "        ii += 1\n",
    "\n",
    "    \n",
    "    #Doing the partial trace for the coefficinets \n",
    "    c = {}\n",
    "    for i in range(len(Poly)):\n",
    "        c[Poly_name[i]] = np.trace(np.matmul(Poly[i],H))/4\n",
    "        \n",
    "    return c\n",
    "    \n",
    "coef = decomposition_H(HT)\n",
    "coef"
   ]
  },
  {
   "cell_type": "markdown",
   "metadata": {},
   "source": [
    "Supposing we already have the decomposition then we can then express the expectation value of the energy of the hamiltonian as \n",
    "\n",
    "\\begin{equation} \n",
    "    \\left< H \\right>_{\\theta} = \\sum_{i}c_{i} \\big< \\psi(\\vec{\\theta}) \\big| \\cal{O}_{i} \\big| \\psi(\\vec{\\theta})\\big>\n",
    "\\end{equation}\n",
    "\n",
    "where the initial state $\\big| \\psi(\\vec{\\theta})\\big> $ is determined to an specific anzats created by the circuit in E10  \n",
    "\n",
    "To properly implement in qiskit we use the RX,RY and RZ defined as \n",
    " \n",
    "\\begin{align*} \n",
    "RX(\\theta) &= e^{-i\\theta\\frac{\\sigma_{X}}{2}} \\\\ \n",
    "RY(\\theta) &= e^{-i\\theta\\frac{\\sigma_{Y}}{2}} \\\\\n",
    "RZ(\\theta) &= e^{-i\\theta\\frac{\\sigma_{Z}}{2}} \\\\ \n",
    "\\end{align*}\n",
    "\n",
    "The created circuit is such that \n",
    "\n",
    "\\begin{equation}\n",
    "    \\big| \\psi(\\vec{\\theta})\\big> = U( \\vec{\\theta} ) \\big| \\vec{0} \\big>\n",
    "\\end{equation}\n",
    "\n",
    "In order to find the expected value it is usefu to consider a general qubit of the form \n",
    "\n",
    "\\begin{equation}\n",
    "    \\big| \\psi \\big> = p_{00}\\big| 00 \\big> + p_{01}\\big| 01 \\big> + p_{10}\\big| 10 \\big> + p_{11}\\big| 11 \\big> \n",
    "\\end{equation}\n",
    "\n",
    "and consider the result of the expetation value of this state with a $\\sigma_{Z} \\otimes \\sigma_{Z}$\n",
    "\n",
    "\\begin{split}\n",
    "   \\big< \\psi \\big| \\sigma_{Z} \\otimes \\sigma_{Z} \\big| \\psi \\big> &= \\big< \\psi \\big| \\sigma_{Z} \\otimes \\sigma_{Z} \\Big(  p_{00}\\big| 00 \\big> + p_{01}\\big| 01 \\big> + p_{10}\\big| 10 \\big> + p_{11}\\big| 11 \\big> \\Big) \\\\\n",
    "   &=  \\big< \\psi \\big| \\Big(  p_{00}\\big| 00 \\big> - p_{01}\\big| 01 \\big> - p_{10}\\big| 10 \\big> + p_{11}\\big| 11 \\big>   \\Big) \\\\\n",
    "   &=  |p_{00}|^2 + |p_{11}|^2 - \\big( |p_{10}|^2 + |p_{01}|^2  \\big)\n",
    "\\end{split}\n",
    "\n",
    "so in order to measure the expectation value from the results of an experiment, we just need to sum the counts with the formula above. For the case when the other pauli matrices appear there only needs to be a change in the basis of the measurements as \n",
    "\n",
    "\\begin{align*}\n",
    "\\sigma_{X} &= (H)^{\\dagger} \\sigma_{Z} H \\\\\n",
    "\\sigma_{Y} &= (HS^{\\dagger})^{\\dagger} \\sigma_{Z} HS^{\\dagger}\n",
    "\\end{align*}\n",
    "\n"
   ]
  },
  {
   "cell_type": "code",
   "execution_count": 222,
   "metadata": {
    "scrolled": true
   },
   "outputs": [
    {
     "data": {
      "image/png": "[encoded data removed]",
      "text/plain": [
       "<Figure size 441.632x204.68 with 1 Axes>"
      ]
     },
     "execution_count": 222,
     "metadata": {},
     "output_type": "execute_result"
    }
   ],
   "source": [
    "def State_Preparation(theta):\n",
    "\n",
    "    qc = QuantumCircuit(2,2)\n",
    "    \n",
    "    qc.ry(theta[1],0)\n",
    "    qc.ry(theta[0],1)\n",
    "    qc.cnot(0,1)\n",
    "    qc.ry(theta[0],1)\n",
    "    qc.cnot(0,1)\n",
    "    qc.ry(theta[2],1)\n",
    "    \n",
    "    return qc\n",
    "\n",
    "#Example circuit \n",
    "qc = State_Preparation([np.pi/4,np.pi/2,np.pi])\n",
    "qc.draw('mpl')\n"
   ]
  },
  {
   "cell_type": "markdown",
   "metadata": {},
   "source": [
    "We are using the qasm_simulator because it mimicks the behaviour of an actual device (https://qiskit.org/documentation/tutorials/simulators/1_aer_provider.html)\n",
    "\n",
    "Give that we want to use mitiq to find "
   ]
  },
  {
   "cell_type": "code",
   "execution_count": 238,
   "metadata": {},
   "outputs": [
    {
     "data": {
      "text/plain": [
       "{'II': 0.0,\n",
       " 'IX': 0.2984,\n",
       " 'IY': 0j,\n",
       " 'IZ': 0.2952,\n",
       " 'XI': 0.0,\n",
       " 'XX': -0.1168,\n",
       " 'XY': 0j,\n",
       " 'XZ': 0.0,\n",
       " 'YI': 0j,\n",
       " 'YX': 0j,\n",
       " 'YY': -0.136,\n",
       " 'YZ': 0j,\n",
       " 'ZI': 0.4004,\n",
       " 'ZX': -0.1468,\n",
       " 'ZY': 0j,\n",
       " 'ZZ': -0.1248}"
      ]
     },
     "execution_count": 238,
     "metadata": {},
     "output_type": "execute_result"
    }
   ],
   "source": [
    "def expectation_measurement(qc,coef,shots=5000,backend = 'qasm_simulator'):\n",
    "\n",
    "    qc_state = qc.copy() #Save original state of quantum circuit\n",
    "    i = 0 #keeping track of which state\n",
    "    exp = coef #copy dictionary to append expectation values \n",
    "    #Loop over possible gates\n",
    "    \n",
    "    for key in coef.keys():\n",
    "        qc_state = qc.copy() #Recover the original circuit\n",
    "        if coef[key] == 0:   #Don't calculate expectation value if it doesn't have representaiton \n",
    "            continue \n",
    "        else:\n",
    "        \n",
    "            #Add pauli gates for different expectation values\n",
    "            for q in range(2): #Lopp over two qubits\n",
    "                if key[q] == 'I' or 'Z':\n",
    "                    pass \n",
    "                elif key[q] == 'X':\n",
    "                    qc_state.h(q)\n",
    "                elif key[q] == 'Y':\n",
    "                    qc_state.sdg(q)\n",
    "                    qc_state.h(q)\n",
    "\n",
    "\n",
    "            #Add measurement to the circut\n",
    "            qc_state.measure([0,1], [0,1])\n",
    "\n",
    "            #Run the circuit \n",
    "            job = execute(\n",
    "            experiments=qc_state,\n",
    "            #backend=provider.get_backend(\"machine name\") to run on hardware\n",
    "            backend=Aer.get_backend(backend),\n",
    "            optimization_level=0, shots=shots\n",
    "            )\n",
    "\n",
    "            #Extract the results counts \n",
    "            counts = job.result().get_counts()\n",
    "\n",
    "            #Insert missing counts in case they're zero\n",
    "            if '00' not in counts:\n",
    "                counts['00'] = 0\n",
    "            if '01' not in counts:\n",
    "                counts['01'] = 0\n",
    "            if '10' not in counts:\n",
    "                counts['10'] = 0\n",
    "            if '11' not in counts:\n",
    "                counts['11'] = 0 \n",
    "                        \n",
    "            \n",
    "            if key[0] == 'I':\n",
    "                if key[1] == 'I':\n",
    "                    # Case + + + +\n",
    "                    total_counts = counts['00'] + counts['01'] + counts['10'] + counts['11']\n",
    "                    exp_counts = total_counts\n",
    "                    exp[key] = exp_counts/total_counts\n",
    "\n",
    "                else: \n",
    "                    # Case + - + - \n",
    "                    total_counts = counts['00'] + counts['01'] + counts['10'] + counts['11']\n",
    "                    exp_counts = counts['00'] - counts['01'] + counts['10'] - counts['11']\n",
    "                    exp[key] = exp_counts/total_counts\n",
    "            else:\n",
    "                if key[1] == 'I':\n",
    "                    #Case + + - -\n",
    "                    total_counts = counts['00'] + counts['01'] + counts['10'] + counts['11']\n",
    "                    exp_counts = counts['00'] + counts['01'] - counts['10'] - counts['11']\n",
    "                    exp[key] = exp_counts/total_counts\n",
    "                    \n",
    "                else:\n",
    "                    #Case + - - +\n",
    "                    total_counts = counts['00'] + counts['01'] + counts['10'] + counts['11']\n",
    "                    exp_counts = counts['00'] - counts['01'] - counts['10'] + counts['11']\n",
    "                    exp[key] = exp_counts/total_counts\n",
    "\n",
    "    return exp\n",
    "\n",
    "qc = State_Preparation([1.04080785, 5.00670891, 5.56948234])\n",
    "exp = expectation_measurement(qc,coef)\n",
    "exp  \n",
    "\n",
    "\n"
   ]
  },
  {
   "cell_type": "code",
   "execution_count": 239,
   "metadata": {},
   "outputs": [
    {
     "data": {
      "image/png": "[encoded data removed]",
      "text/plain": [
       "<Figure size 441.632x204.68 with 1 Axes>"
      ]
     },
     "execution_count": 239,
     "metadata": {},
     "output_type": "execute_result"
    }
   ],
   "source": []
  },
  {
   "cell_type": "markdown",
   "metadata": {},
   "source": [
    "Now we are in a position to construct the function to construct the function that gives the result of the expectation value "
   ]
  },
  {
   "cell_type": "code",
   "execution_count": 226,
   "metadata": {},
   "outputs": [
    {
     "data": {
      "text/plain": [
       "(0.006695639999999999+0j)"
      ]
     },
     "execution_count": 226,
     "metadata": {},
     "output_type": "execute_result"
    }
   ],
   "source": [
    "def Expectation_Hamiltonian(theta,H,shots=10000,backend = 'qasm_simulator'):\n",
    "\n",
    "    #Find the Pauli decomposition\n",
    "    c = decomposition_H(H)\n",
    "    \n",
    "    #Define the wavefunction anzats \n",
    "    qc = State_Preparation(theta)\n",
    "    \n",
    "    #Expectation value for Pauli matrices\n",
    "    exp = expectation_measurement(qc,c,shots,backend)\n",
    "    \n",
    "    #Expectation value of hamiltonian \n",
    "    H_exp = 0\n",
    "    for key in c.keys():\n",
    "        H_exp += c[key]*exp[key]\n",
    "        \n",
    "    return H_exp\n",
    "\n",
    "theta =[3.15917296, 4.74212536, 1.5230783 ] \n",
    "Expectation_Hamiltonian(theta,HT)\n",
    "    "
   ]
  },
  {
   "cell_type": "markdown",
   "metadata": {},
   "source": [
    "We can construct now an optimization using COBYLA method that was found in the application process to be the most effecient one, as well as the recommended one inn the qiskit tutorial for VQE (https://qiskit.org/textbook/ch-applications/vqe-molecules.html). We will be using the scipy optimization package \n",
    "\n",
    "\n"
   ]
  },
  {
   "cell_type": "code",
   "execution_count": 237,
   "metadata": {},
   "outputs": [
    {
     "name": "stdout",
     "output_type": "stream",
     "text": [
      "     fun: 0.40075195999999996\n",
      "   maxcv: 0.0\n",
      " message: 'Optimization terminated successfully.'\n",
      "    nfev: 46\n",
      "  status: 1\n",
      " success: True\n",
      "       x: array([1.04080785, 5.00670891, 5.56948234])\n"
     ]
    }
   ],
   "source": [
    "theta_0 = 2*math.pi*np.random.random([3]) #Initial random values\n",
    "\n",
    "opt.bounds = (0,2*math.pi) #setting the bounds for the optimizaiton\n",
    "\n",
    "sol = opt.minimize(Expectation_Hamiltonian,theta_0,args=(HT),method='COBYLA')\n",
    "print(sol)\n"
   ]
  },
  {
   "cell_type": "markdown",
   "metadata": {},
   "source": [
    "To use mitiq with just a few lines of code, we simply need to define a function which inputs a circuit and outputs the expectation value to mitigate. This function will:\n",
    "\n",
    "Add measurement(s) to the circuit.\n",
    "\n",
    "Run the circuit.\n",
    "\n",
    "Convert from raw measurement statistics (or a different output format) to an expectation value.\n",
    "\n",
    "We define this function in the following code block. Because we are using IBMQ backends, we first load our account."
   ]
  },
  {
   "cell_type": "markdown",
   "metadata": {},
   "source": [
    "## Implementation with pre-existing algorithm "
   ]
  }
 ],
 "metadata": {
  "kernelspec": {
   "display_name": "Python 3",
   "language": "python",
   "name": "python3"
  },
  "language_info": {
   "codemirror_mode": {
    "name": "ipython",
    "version": 3
   },
   "file_extension": ".py",
   "mimetype": "text/x-python",
   "name": "python",
   "nbconvert_exporter": "python",
   "pygments_lexer": "ipython3",
   "version": "3.8.5"
  }
 },
 "nbformat": 4,
 "nbformat_minor": 4
}
